{
 "cells": [
  {
   "cell_type": "markdown",
   "metadata": {},
   "source": [
    "# Webscraping and beyond"
   ]
  },
  {
   "cell_type": "markdown",
   "metadata": {},
   "source": [
    "**Ruthger Righart**\n",
    "\n",
    "Email: rrighart@googlemail.com\n",
    "Website: www.rrighart.com"
   ]
  },
  {
   "cell_type": "markdown",
   "metadata": {},
   "source": [
    "Data is the new oil of the 21st century<font color=\"gray\"><sup>1</sup></font>. Many data come from the web<font color=\"gray\"><sup>2</sup></font>. Acquiring these webdata and structuring them is an essential skill that is called *webscraping*.\n",
    "\n",
    "In this blog, I am going to briefly discuss how to webscrape data. However, it does not stop there. Analyses beyond webscraping are often needed. Some additional steps are shown, such as capturing hidden characters, merging different data, summary stats and visualization etc. Luckily, Python can be used for the whole analysis pipeline.\n",
    "\n",
    "Healthdata are used for the current purpose, but it should be mentioned that many data can be webscraped in a similar way, sometimes with a few adaptations in the code.\n",
    "\n",
    "**Important note**: Almost nothing is more dynamic than webdata. I have attempted to take a data example from Wikipedia that should remain rather stable over time. \n",
    "The code in the current blog is based on **Python 2.7**. Please note that minor changes in code for Python 3 are needed.\n",
    "\n",
    "If you discover any error or something in the code that does not work, please do not hesitate to contact me.\n"
   ]
  },
  {
   "cell_type": "code",
   "execution_count": 1,
   "metadata": {
    "collapsed": true
   },
   "outputs": [],
   "source": [
    "import warnings\n",
    "warnings.filterwarnings(\"ignore\")"
   ]
  },
  {
   "cell_type": "markdown",
   "metadata": {},
   "source": [
    "## **Healthcare rankings for different European countries** "
   ]
  },
  {
   "cell_type": "markdown",
   "metadata": {
    "collapsed": true
   },
   "source": [
    "**Beautiful Soup** is a Python package that is used for webscraping<font color=\"gray\"><sup>3</sup></font>. \n",
    "In this blog we are going to use webscraping to scrape tables from webpages."
   ]
  },
  {
   "cell_type": "code",
   "execution_count": 2,
   "metadata": {
    "collapsed": true
   },
   "outputs": [],
   "source": [
    "import pandas as pd\n",
    "from bs4 import BeautifulSoup\n",
    "import requests\n",
    "import csv\n",
    "import re\n",
    "import urllib2\n",
    "from datetime import datetime\n",
    "import os\n",
    "import sys\n",
    "import matplotlib.pyplot as plt\n",
    "import matplotlib.image as mpimg"
   ]
  },
  {
   "cell_type": "markdown",
   "metadata": {},
   "source": [
    "First, you need to determine the directory where you save your data.  "
   ]
  },
  {
   "cell_type": "code",
   "execution_count": null,
   "metadata": {
    "collapsed": true
   },
   "outputs": [],
   "source": [
    "os.chdir('/your-directory/')\n",
    "os.getcwd()"
   ]
  },
  {
   "cell_type": "markdown",
   "metadata": {},
   "source": [
    "We are going to scrape data from wikipedia<font color=\"gray\"><sup>4</sup></font>. The data indicate rankings on different health indices, such as patient rights and information, accessibility (waiting time for treatment), outcomes, range and reach of services provided, prevention, and pharmaceuticals. The data are from the Euro Health Consumer index 2014. In the following code, we read the data and use BeautifulSoup to convert the data in so-called **bs4.BeautifulSoup** data. Several data visualizations using Tableau can be found on my blog page<font color=\"gray\"><sup>5</sup></font>."
   ]
  },
  {
   "cell_type": "code",
   "execution_count": 4,
   "metadata": {},
   "outputs": [
    {
     "data": {
      "text/plain": [
       "bs4.BeautifulSoup"
      ]
     },
     "execution_count": 4,
     "metadata": {},
     "output_type": "execute_result"
    }
   ],
   "source": [
    "url = 'https://en.wikipedia.org/wiki/Healthcare_in_Europe' \n",
    "r = requests.get(url)\n",
    "HCE = BeautifulSoup(r.content)\n",
    "type(HCE)"
   ]
  },
  {
   "cell_type": "markdown",
   "metadata": {},
   "source": [
    "We could display the data using <font color=\"blue\">print(HCE.prettify())</font>. We will not do that here because it gives a great amount of text (or soup)."
   ]
  },
  {
   "cell_type": "markdown",
   "metadata": {},
   "source": [
    "We first need to select the table that we'd like to scrape. As many webpages contain multiple tables (as is the case for the current example), it would be good to read from the HTML the tablenames into a list, that we will call <font color=\"red\">lst</font><font color=\"gray\"><sup>6</sup></font>. The following piece of code exactly does that:"
   ]
  },
  {
   "cell_type": "code",
   "execution_count": 5,
   "metadata": {
    "collapsed": true
   },
   "outputs": [],
   "source": [
    "htmlpage = urllib2.urlopen(url)\n",
    "lst = []\n",
    "for line in htmlpage:\n",
    "    line = line.rstrip()\n",
    "    if re.search('table class', line) :\n",
    "        lst.append(line)"
   ]
  },
  {
   "cell_type": "markdown",
   "metadata": {},
   "source": [
    "This list <font color=\"red\">lst</font> has a length of 2:"
   ]
  },
  {
   "cell_type": "code",
   "execution_count": 6,
   "metadata": {},
   "outputs": [
    {
     "data": {
      "text/plain": [
       "2"
      ]
     },
     "execution_count": 6,
     "metadata": {},
     "output_type": "execute_result"
    }
   ],
   "source": [
    "len(lst)"
   ]
  },
  {
   "cell_type": "markdown",
   "metadata": {},
   "source": [
    "Now let us display <font color=\"red\">lst</font>:"
   ]
  },
  {
   "cell_type": "code",
   "execution_count": 7,
   "metadata": {},
   "outputs": [
    {
     "data": {
      "text/plain": [
       "['<table class=\"wikitable sortable\">',\n",
       " '<table class=\"nowraplinks collapsible autocollapse navbox-inner\" style=\"border-spacing:0;background:transparent;color:inherit\">']"
      ]
     },
     "execution_count": 7,
     "metadata": {},
     "output_type": "execute_result"
    }
   ],
   "source": [
    "lst"
   ]
  },
  {
   "cell_type": "markdown",
   "metadata": {},
   "source": [
    "We will scrape the first table, and therefore use index 0 in <font color=\"red\">lst</font> to capture the first table name:"
   ]
  },
  {
   "cell_type": "code",
   "execution_count": 8,
   "metadata": {},
   "outputs": [
    {
     "name": "stdout",
     "output_type": "stream",
     "text": [
      "<table class=\"wikitable sortable\">\n"
     ]
    }
   ],
   "source": [
    "x=lst[0]\n",
    "print x\n",
    "extr=re.findall('\"([^\"]*)\"', x)"
   ]
  },
  {
   "cell_type": "markdown",
   "metadata": {},
   "source": [
    "Now it is about time to read in the table using Beautiful Soup's <font color=\"blue\">find</font> function. A simple option is to type in the table name. You simply select the name in <font color=\"red\">lst</font>, which in this case is \"wikitable sortable\":"
   ]
  },
  {
   "cell_type": "code",
   "execution_count": 9,
   "metadata": {
    "collapsed": true
   },
   "outputs": [],
   "source": [
    "table=HCE.find('table', {'class', 'wikitable sortable'})"
   ]
  },
  {
   "cell_type": "markdown",
   "metadata": {},
   "source": [
    "Alternatively, there is a way to automate this step, by capturing the first data from the list, and then stripping off the unneeded characters."
   ]
  },
  {
   "cell_type": "code",
   "execution_count": 10,
   "metadata": {
    "collapsed": true
   },
   "outputs": [],
   "source": [
    "table=HCE.find('table', {'class', str(extr).strip(\"'[]'\")})"
   ]
  },
  {
   "cell_type": "code",
   "execution_count": 11,
   "metadata": {},
   "outputs": [
    {
     "data": {
      "text/plain": [
       "bs4.element.Tag"
      ]
     },
     "execution_count": 11,
     "metadata": {},
     "output_type": "execute_result"
    }
   ],
   "source": [
    "type(table)"
   ]
  },
  {
   "cell_type": "markdown",
   "metadata": {},
   "source": [
    "Now it would be good to read in separately the header names and rows, sothat later we can easily make a DataFrame."
   ]
  },
  {
   "cell_type": "code",
   "execution_count": 12,
   "metadata": {
    "collapsed": true
   },
   "outputs": [],
   "source": [
    "headers= [header.text for header in table.find_all('th')]"
   ]
  },
  {
   "cell_type": "code",
   "execution_count": 13,
   "metadata": {
    "scrolled": true
   },
   "outputs": [
    {
     "data": {
      "text/plain": [
       "[u'Country',\n",
       " u'Overall ranking',\n",
       " u'Patient rights and\\ninformation ranking',\n",
       " u'Accessibility\\n(waiting times for\\ntreatment) ranking',\n",
       " u'Outcomes\\nranking',\n",
       " u'Range and reach of\\nservices provided',\n",
       " u'Prevention',\n",
       " u'Pharmaceuticals']"
      ]
     },
     "execution_count": 13,
     "metadata": {},
     "output_type": "execute_result"
    }
   ],
   "source": [
    "headers"
   ]
  },
  {
   "cell_type": "code",
   "execution_count": 14,
   "metadata": {
    "collapsed": true
   },
   "outputs": [],
   "source": [
    "rows = []\n",
    "for row in table.find_all('tr'):\n",
    "    rows.append([val.text.encode('utf8') for val in row.find_all('td')])"
   ]
  },
  {
   "cell_type": "markdown",
   "metadata": {},
   "source": [
    "Rows look as follows and are of the type list:"
   ]
  },
  {
   "cell_type": "code",
   "execution_count": 15,
   "metadata": {},
   "outputs": [
    {
     "name": "stdout",
     "output_type": "stream",
     "text": [
      "(0, [])\n",
      "(1, ['\\xc2\\xa0Netherlands', '1', '1', '7', '1', '1', '13', '1'])\n",
      "(2, ['\\xc2\\xa0\\xc2\\xa0Switzerland', '2', '12', '1', '3', '14', '6', '9'])\n",
      "(3, ['\\xc2\\xa0Norway', '3', '22', '22', '1', '3', '1', '7'])\n",
      "(4, ['\\xc2\\xa0Finland', '4', '6', '10', '6', '4', '6', '1'])\n",
      "(5, ['\\xc2\\xa0Denmark', '5', '2', '4', '9', '6', '13', '9'])\n",
      "(6, ['\\xc2\\xa0Belgium', '6', '22', '1', '9', '4', '19', '9'])\n"
     ]
    }
   ],
   "source": [
    "for x in range(0,7):\n",
    "    print(x, rows[x])"
   ]
  },
  {
   "cell_type": "markdown",
   "metadata": {},
   "source": [
    "Now all element, -- rows and headers --, are available to build the DataFrame, which we will call <font color=\"red\">df1</font>. "
   ]
  },
  {
   "cell_type": "code",
   "execution_count": 16,
   "metadata": {
    "collapsed": true
   },
   "outputs": [],
   "source": [
    "df1 = pd.DataFrame(rows, columns=headers)"
   ]
  },
  {
   "cell_type": "code",
   "execution_count": 17,
   "metadata": {},
   "outputs": [
    {
     "data": {
      "text/html": [
       "<div>\n",
       "<style>\n",
       "    .dataframe thead tr:only-child th {\n",
       "        text-align: right;\n",
       "    }\n",
       "\n",
       "    .dataframe thead th {\n",
       "        text-align: left;\n",
       "    }\n",
       "\n",
       "    .dataframe tbody tr th {\n",
       "        vertical-align: top;\n",
       "    }\n",
       "</style>\n",
       "<table border=\"1\" class=\"dataframe\">\n",
       "  <thead>\n",
       "    <tr style=\"text-align: right;\">\n",
       "      <th></th>\n",
       "      <th>Country</th>\n",
       "      <th>Overall ranking</th>\n",
       "      <th>Patient rights and\n",
       "information ranking</th>\n",
       "      <th>Accessibility\n",
       "(waiting times for\n",
       "treatment) ranking</th>\n",
       "      <th>Outcomes\n",
       "ranking</th>\n",
       "      <th>Range and reach of\n",
       "services provided</th>\n",
       "      <th>Prevention</th>\n",
       "      <th>Pharmaceuticals</th>\n",
       "    </tr>\n",
       "  </thead>\n",
       "  <tbody>\n",
       "    <tr>\n",
       "      <th>0</th>\n",
       "      <td>None</td>\n",
       "      <td>None</td>\n",
       "      <td>None</td>\n",
       "      <td>None</td>\n",
       "      <td>None</td>\n",
       "      <td>None</td>\n",
       "      <td>None</td>\n",
       "      <td>None</td>\n",
       "    </tr>\n",
       "    <tr>\n",
       "      <th>1</th>\n",
       "      <td>Netherlands</td>\n",
       "      <td>1</td>\n",
       "      <td>1</td>\n",
       "      <td>7</td>\n",
       "      <td>1</td>\n",
       "      <td>1</td>\n",
       "      <td>13</td>\n",
       "      <td>1</td>\n",
       "    </tr>\n",
       "    <tr>\n",
       "      <th>2</th>\n",
       "      <td>Switzerland</td>\n",
       "      <td>2</td>\n",
       "      <td>12</td>\n",
       "      <td>1</td>\n",
       "      <td>3</td>\n",
       "      <td>14</td>\n",
       "      <td>6</td>\n",
       "      <td>9</td>\n",
       "    </tr>\n",
       "    <tr>\n",
       "      <th>3</th>\n",
       "      <td>Norway</td>\n",
       "      <td>3</td>\n",
       "      <td>22</td>\n",
       "      <td>22</td>\n",
       "      <td>1</td>\n",
       "      <td>3</td>\n",
       "      <td>1</td>\n",
       "      <td>7</td>\n",
       "    </tr>\n",
       "    <tr>\n",
       "      <th>4</th>\n",
       "      <td>Finland</td>\n",
       "      <td>4</td>\n",
       "      <td>6</td>\n",
       "      <td>10</td>\n",
       "      <td>6</td>\n",
       "      <td>4</td>\n",
       "      <td>6</td>\n",
       "      <td>1</td>\n",
       "    </tr>\n",
       "    <tr>\n",
       "      <th>5</th>\n",
       "      <td>Denmark</td>\n",
       "      <td>5</td>\n",
       "      <td>2</td>\n",
       "      <td>4</td>\n",
       "      <td>9</td>\n",
       "      <td>6</td>\n",
       "      <td>13</td>\n",
       "      <td>9</td>\n",
       "    </tr>\n",
       "    <tr>\n",
       "      <th>6</th>\n",
       "      <td>Belgium</td>\n",
       "      <td>6</td>\n",
       "      <td>22</td>\n",
       "      <td>1</td>\n",
       "      <td>9</td>\n",
       "      <td>4</td>\n",
       "      <td>19</td>\n",
       "      <td>9</td>\n",
       "    </tr>\n",
       "  </tbody>\n",
       "</table>\n",
       "</div>"
      ],
      "text/plain": [
       "         Country Overall ranking Patient rights and\\ninformation ranking  \\\n",
       "0           None            None                                    None   \n",
       "1    Netherlands               1                                       1   \n",
       "2    Switzerland               2                                      12   \n",
       "3         Norway               3                                      22   \n",
       "4        Finland               4                                       6   \n",
       "5        Denmark               5                                       2   \n",
       "6        Belgium               6                                      22   \n",
       "\n",
       "  Accessibility\\n(waiting times for\\ntreatment) ranking Outcomes\\nranking  \\\n",
       "0                                               None                 None   \n",
       "1                                                  7                    1   \n",
       "2                                                  1                    3   \n",
       "3                                                 22                    1   \n",
       "4                                                 10                    6   \n",
       "5                                                  4                    9   \n",
       "6                                                  1                    9   \n",
       "\n",
       "  Range and reach of\\nservices provided Prevention Pharmaceuticals  \n",
       "0                                  None       None            None  \n",
       "1                                     1         13               1  \n",
       "2                                    14          6               9  \n",
       "3                                     3          1               7  \n",
       "4                                     4          6               1  \n",
       "5                                     6         13               9  \n",
       "6                                     4         19               9  "
      ]
     },
     "execution_count": 17,
     "metadata": {},
     "output_type": "execute_result"
    }
   ],
   "source": [
    "df1.head(7)"
   ]
  },
  {
   "cell_type": "markdown",
   "metadata": {},
   "source": [
    "## **Health Expenditure**"
   ]
  },
  {
   "cell_type": "markdown",
   "metadata": {},
   "source": [
    "Of course, we can do the same for other data sources. So let us load data about health expenditure<font color=\"gray\"><sup>7</sup></font>. These are data per capita, which means that expenditure was corrected for the number of habitants in a country. We are now going to put the script in one code block, which eventually should lead to a DataFrame <font color=\"red\">df2</font>:"
   ]
  },
  {
   "cell_type": "code",
   "execution_count": 18,
   "metadata": {},
   "outputs": [
    {
     "name": "stdout",
     "output_type": "stream",
     "text": [
      "<table class=\"wikitable sortable\">\n"
     ]
    }
   ],
   "source": [
    "url = 'https://en.wikipedia.org/wiki/List_of_countries_by_total_health_expenditure_per_capita' \n",
    "r = requests.get(url)\n",
    "HEE = BeautifulSoup(r.content)\n",
    "htmlpage = urllib2.urlopen(url)\n",
    "lst = []\n",
    "for line in htmlpage:\n",
    "    line = line.rstrip()\n",
    "    if re.search('table class', line) :\n",
    "        lst.append(line)\n",
    "x=lst[1]\n",
    "print x\n",
    "extr=re.findall('\"([^\"]*)\"', x)\n",
    "table=HEE.find('table', {'class', str(extr).strip(\"'[]'\")})\n",
    "headers= [header.text for header in table.find_all('th')]\n",
    "rows = []\n",
    "for row in table.find_all('tr'):\n",
    "    rows.append([val.text.encode('utf8') for val in row.find_all('td')])\n",
    "df2 = pd.DataFrame(rows, columns=headers)"
   ]
  },
  {
   "cell_type": "markdown",
   "metadata": {},
   "source": [
    "Alright. Let us inspect if the resulting DataFrame <font color=\"red\">df2</font> looks fine:"
   ]
  },
  {
   "cell_type": "code",
   "execution_count": 19,
   "metadata": {},
   "outputs": [
    {
     "data": {
      "text/html": [
       "<div>\n",
       "<style>\n",
       "    .dataframe thead tr:only-child th {\n",
       "        text-align: right;\n",
       "    }\n",
       "\n",
       "    .dataframe thead th {\n",
       "        text-align: left;\n",
       "    }\n",
       "\n",
       "    .dataframe tbody tr th {\n",
       "        vertical-align: top;\n",
       "    }\n",
       "</style>\n",
       "<table border=\"1\" class=\"dataframe\">\n",
       "  <thead>\n",
       "    <tr style=\"text-align: right;\">\n",
       "      <th></th>\n",
       "      <th>Country</th>\n",
       "      <th>2012</th>\n",
       "      <th>2013</th>\n",
       "      <th>2014</th>\n",
       "      <th>2015</th>\n",
       "    </tr>\n",
       "  </thead>\n",
       "  <tbody>\n",
       "    <tr>\n",
       "      <th>0</th>\n",
       "      <td>None</td>\n",
       "      <td>None</td>\n",
       "      <td>None</td>\n",
       "      <td>None</td>\n",
       "      <td>None</td>\n",
       "    </tr>\n",
       "    <tr>\n",
       "      <th>1</th>\n",
       "      <td>Australia</td>\n",
       "      <td>3808</td>\n",
       "      <td>4177</td>\n",
       "      <td>4207</td>\n",
       "      <td>4420</td>\n",
       "    </tr>\n",
       "    <tr>\n",
       "      <th>2</th>\n",
       "      <td>Austria</td>\n",
       "      <td>4646</td>\n",
       "      <td>4806</td>\n",
       "      <td>4896</td>\n",
       "      <td>5016</td>\n",
       "    </tr>\n",
       "    <tr>\n",
       "      <th>3</th>\n",
       "      <td>Belgium</td>\n",
       "      <td>4286</td>\n",
       "      <td>4485</td>\n",
       "      <td>4522</td>\n",
       "      <td>4611</td>\n",
       "    </tr>\n",
       "    <tr>\n",
       "      <th>4</th>\n",
       "      <td>Canada</td>\n",
       "      <td>4320</td>\n",
       "      <td>4503</td>\n",
       "      <td>4492</td>\n",
       "      <td>4608</td>\n",
       "    </tr>\n",
       "    <tr>\n",
       "      <th>5</th>\n",
       "      <td>Chile</td>\n",
       "      <td>1485</td>\n",
       "      <td>1558</td>\n",
       "      <td>1689</td>\n",
       "      <td>1728</td>\n",
       "    </tr>\n",
       "    <tr>\n",
       "      <th>6</th>\n",
       "      <td>Czech Republic</td>\n",
       "      <td>2028</td>\n",
       "      <td>2330</td>\n",
       "      <td>2386</td>\n",
       "      <td>2464</td>\n",
       "    </tr>\n",
       "  </tbody>\n",
       "</table>\n",
       "</div>"
      ],
      "text/plain": [
       "          Country  2012  2013  2014  2015\n",
       "0            None  None  None  None  None\n",
       "1       Australia  3808  4177  4207  4420\n",
       "2         Austria  4646  4806  4896  5016\n",
       "3         Belgium  4286  4485  4522  4611\n",
       "4          Canada  4320  4503  4492  4608\n",
       "5           Chile  1485  1558  1689  1728\n",
       "6  Czech Republic  2028  2330  2386  2464"
      ]
     },
     "execution_count": 19,
     "metadata": {},
     "output_type": "execute_result"
    }
   ],
   "source": [
    "df2.head(7)"
   ]
  },
  {
   "cell_type": "markdown",
   "metadata": {},
   "source": [
    "\n",
    "## **Additional preprocessing steps**"
   ]
  },
  {
   "cell_type": "markdown",
   "metadata": {},
   "source": [
    "If we use <font color=\"blue\">df1.dtypes</font> and do the same for <font color=\"red\">df2</font> we will see that the columns are still objects. That means that no calculations can be performed on these columns."
   ]
  },
  {
   "cell_type": "code",
   "execution_count": 20,
   "metadata": {},
   "outputs": [
    {
     "data": {
      "text/plain": [
       "Country                                                  object\n",
       "Overall ranking                                          object\n",
       "Patient rights and\\ninformation ranking                  object\n",
       "Accessibility\\n(waiting times for\\ntreatment) ranking    object\n",
       "Outcomes\\nranking                                        object\n",
       "Range and reach of\\nservices provided                    object\n",
       "Prevention                                               object\n",
       "Pharmaceuticals                                          object\n",
       "dtype: object"
      ]
     },
     "execution_count": 20,
     "metadata": {},
     "output_type": "execute_result"
    }
   ],
   "source": [
    "df1.dtypes"
   ]
  },
  {
   "cell_type": "markdown",
   "metadata": {},
   "source": [
    "In the following we will convert the data from object to numeric:"
   ]
  },
  {
   "cell_type": "code",
   "execution_count": 21,
   "metadata": {
    "collapsed": true
   },
   "outputs": [],
   "source": [
    "df1 = df1.convert_objects(convert_numeric=True)"
   ]
  },
  {
   "cell_type": "code",
   "execution_count": 22,
   "metadata": {
    "collapsed": true
   },
   "outputs": [],
   "source": [
    "df2 = df2.convert_objects(convert_numeric=True)"
   ]
  },
  {
   "cell_type": "markdown",
   "metadata": {},
   "source": [
    "And now we check if the data type changed:"
   ]
  },
  {
   "cell_type": "code",
   "execution_count": 23,
   "metadata": {},
   "outputs": [
    {
     "data": {
      "text/plain": [
       "Country                                                   object\n",
       "Overall ranking                                          float64\n",
       "Patient rights and\\ninformation ranking                  float64\n",
       "Accessibility\\n(waiting times for\\ntreatment) ranking    float64\n",
       "Outcomes\\nranking                                        float64\n",
       "Range and reach of\\nservices provided                    float64\n",
       "Prevention                                               float64\n",
       "Pharmaceuticals                                          float64\n",
       "dtype: object"
      ]
     },
     "execution_count": 23,
     "metadata": {},
     "output_type": "execute_result"
    }
   ],
   "source": [
    "df1.dtypes"
   ]
  },
  {
   "cell_type": "code",
   "execution_count": 24,
   "metadata": {},
   "outputs": [
    {
     "data": {
      "text/plain": [
       "Country     object\n",
       "2012       float64\n",
       "2013       float64\n",
       "2014       float64\n",
       "2015       float64\n",
       "dtype: object"
      ]
     },
     "execution_count": 24,
     "metadata": {},
     "output_type": "execute_result"
    }
   ],
   "source": [
    "df2.dtypes"
   ]
  },
  {
   "cell_type": "markdown",
   "metadata": {},
   "source": [
    "The columnnames are a bit long, and so it would be good to use shorter names."
   ]
  },
  {
   "cell_type": "code",
   "execution_count": 25,
   "metadata": {},
   "outputs": [
    {
     "data": {
      "text/plain": [
       "Index([u'Country', u'Overall ranking',\n",
       "       u'Patient rights and\\ninformation ranking',\n",
       "       u'Accessibility\\n(waiting times for\\ntreatment) ranking',\n",
       "       u'Outcomes\\nranking', u'Range and reach of\\nservices provided',\n",
       "       u'Prevention', u'Pharmaceuticals'],\n",
       "      dtype='object')"
      ]
     },
     "execution_count": 25,
     "metadata": {},
     "output_type": "execute_result"
    }
   ],
   "source": [
    "df1.columns"
   ]
  },
  {
   "cell_type": "code",
   "execution_count": 26,
   "metadata": {
    "collapsed": true
   },
   "outputs": [],
   "source": [
    "df1.columns = ['Country', 'Ranking', 'Patientrights', 'Accessibility', 'Outcomes', 'Range', 'Prevention', 'Pharmaceuticals']"
   ]
  },
  {
   "cell_type": "markdown",
   "metadata": {},
   "source": [
    "The summary statistics show that calculations can be performed:"
   ]
  },
  {
   "cell_type": "code",
   "execution_count": 27,
   "metadata": {},
   "outputs": [
    {
     "data": {
      "text/html": [
       "<div>\n",
       "<style>\n",
       "    .dataframe thead tr:only-child th {\n",
       "        text-align: right;\n",
       "    }\n",
       "\n",
       "    .dataframe thead th {\n",
       "        text-align: left;\n",
       "    }\n",
       "\n",
       "    .dataframe tbody tr th {\n",
       "        vertical-align: top;\n",
       "    }\n",
       "</style>\n",
       "<table border=\"1\" class=\"dataframe\">\n",
       "  <thead>\n",
       "    <tr style=\"text-align: right;\">\n",
       "      <th></th>\n",
       "      <th>Ranking</th>\n",
       "      <th>Patientrights</th>\n",
       "      <th>Accessibility</th>\n",
       "      <th>Outcomes</th>\n",
       "      <th>Range</th>\n",
       "      <th>Prevention</th>\n",
       "      <th>Pharmaceuticals</th>\n",
       "    </tr>\n",
       "  </thead>\n",
       "  <tbody>\n",
       "    <tr>\n",
       "      <th>count</th>\n",
       "      <td>37.000000</td>\n",
       "      <td>37.000000</td>\n",
       "      <td>37.000000</td>\n",
       "      <td>37.000000</td>\n",
       "      <td>37.000000</td>\n",
       "      <td>37.000000</td>\n",
       "      <td>37.000000</td>\n",
       "    </tr>\n",
       "    <tr>\n",
       "      <th>mean</th>\n",
       "      <td>19.000000</td>\n",
       "      <td>18.864865</td>\n",
       "      <td>17.810811</td>\n",
       "      <td>17.729730</td>\n",
       "      <td>18.189189</td>\n",
       "      <td>17.000000</td>\n",
       "      <td>17.270270</td>\n",
       "    </tr>\n",
       "    <tr>\n",
       "      <th>std</th>\n",
       "      <td>10.824355</td>\n",
       "      <td>10.349885</td>\n",
       "      <td>10.723385</td>\n",
       "      <td>10.889977</td>\n",
       "      <td>10.823939</td>\n",
       "      <td>11.147994</td>\n",
       "      <td>10.872107</td>\n",
       "    </tr>\n",
       "    <tr>\n",
       "      <th>min</th>\n",
       "      <td>1.000000</td>\n",
       "      <td>1.000000</td>\n",
       "      <td>1.000000</td>\n",
       "      <td>1.000000</td>\n",
       "      <td>1.000000</td>\n",
       "      <td>1.000000</td>\n",
       "      <td>1.000000</td>\n",
       "    </tr>\n",
       "    <tr>\n",
       "      <th>25%</th>\n",
       "      <td>10.000000</td>\n",
       "      <td>10.000000</td>\n",
       "      <td>10.000000</td>\n",
       "      <td>9.000000</td>\n",
       "      <td>9.000000</td>\n",
       "      <td>6.000000</td>\n",
       "      <td>9.000000</td>\n",
       "    </tr>\n",
       "    <tr>\n",
       "      <th>50%</th>\n",
       "      <td>19.000000</td>\n",
       "      <td>19.000000</td>\n",
       "      <td>19.000000</td>\n",
       "      <td>16.000000</td>\n",
       "      <td>19.000000</td>\n",
       "      <td>19.000000</td>\n",
       "      <td>19.000000</td>\n",
       "    </tr>\n",
       "    <tr>\n",
       "      <th>75%</th>\n",
       "      <td>28.000000</td>\n",
       "      <td>28.000000</td>\n",
       "      <td>27.000000</td>\n",
       "      <td>26.000000</td>\n",
       "      <td>28.000000</td>\n",
       "      <td>26.000000</td>\n",
       "      <td>28.000000</td>\n",
       "    </tr>\n",
       "    <tr>\n",
       "      <th>max</th>\n",
       "      <td>37.000000</td>\n",
       "      <td>37.000000</td>\n",
       "      <td>37.000000</td>\n",
       "      <td>36.000000</td>\n",
       "      <td>37.000000</td>\n",
       "      <td>37.000000</td>\n",
       "      <td>36.000000</td>\n",
       "    </tr>\n",
       "  </tbody>\n",
       "</table>\n",
       "</div>"
      ],
      "text/plain": [
       "         Ranking  Patientrights  Accessibility   Outcomes      Range  \\\n",
       "count  37.000000      37.000000      37.000000  37.000000  37.000000   \n",
       "mean   19.000000      18.864865      17.810811  17.729730  18.189189   \n",
       "std    10.824355      10.349885      10.723385  10.889977  10.823939   \n",
       "min     1.000000       1.000000       1.000000   1.000000   1.000000   \n",
       "25%    10.000000      10.000000      10.000000   9.000000   9.000000   \n",
       "50%    19.000000      19.000000      19.000000  16.000000  19.000000   \n",
       "75%    28.000000      28.000000      27.000000  26.000000  28.000000   \n",
       "max    37.000000      37.000000      37.000000  36.000000  37.000000   \n",
       "\n",
       "       Prevention  Pharmaceuticals  \n",
       "count   37.000000        37.000000  \n",
       "mean    17.000000        17.270270  \n",
       "std     11.147994        10.872107  \n",
       "min      1.000000         1.000000  \n",
       "25%      6.000000         9.000000  \n",
       "50%     19.000000        19.000000  \n",
       "75%     26.000000        28.000000  \n",
       "max     37.000000        36.000000  "
      ]
     },
     "execution_count": 27,
     "metadata": {},
     "output_type": "execute_result"
    }
   ],
   "source": [
    "df1.describe()"
   ]
  },
  {
   "cell_type": "markdown",
   "metadata": {},
   "source": [
    "That looks good. But we need a bit of more processing. For example, a first row (index zero) with only \"None\" values slipped in and could be removed. After, we also change columnnames:"
   ]
  },
  {
   "cell_type": "code",
   "execution_count": 28,
   "metadata": {
    "collapsed": true
   },
   "outputs": [],
   "source": [
    "df1 = df1.drop(df1.index[0])"
   ]
  },
  {
   "cell_type": "code",
   "execution_count": 29,
   "metadata": {
    "collapsed": true
   },
   "outputs": [],
   "source": [
    "df2 = df2.drop(df2.index[0])"
   ]
  },
  {
   "cell_type": "code",
   "execution_count": 30,
   "metadata": {
    "collapsed": true
   },
   "outputs": [],
   "source": [
    "df2.columns = ['Country', 'y2012', 'y2013', 'y2014', 'y2015']"
   ]
  },
  {
   "cell_type": "code",
   "execution_count": 31,
   "metadata": {},
   "outputs": [
    {
     "data": {
      "text/html": [
       "<div>\n",
       "<style>\n",
       "    .dataframe thead tr:only-child th {\n",
       "        text-align: right;\n",
       "    }\n",
       "\n",
       "    .dataframe thead th {\n",
       "        text-align: left;\n",
       "    }\n",
       "\n",
       "    .dataframe tbody tr th {\n",
       "        vertical-align: top;\n",
       "    }\n",
       "</style>\n",
       "<table border=\"1\" class=\"dataframe\">\n",
       "  <thead>\n",
       "    <tr style=\"text-align: right;\">\n",
       "      <th></th>\n",
       "      <th>Country</th>\n",
       "      <th>y2012</th>\n",
       "      <th>y2013</th>\n",
       "      <th>y2014</th>\n",
       "      <th>y2015</th>\n",
       "    </tr>\n",
       "  </thead>\n",
       "  <tbody>\n",
       "    <tr>\n",
       "      <th>1</th>\n",
       "      <td>Australia</td>\n",
       "      <td>3808.0</td>\n",
       "      <td>4177.0</td>\n",
       "      <td>4207.0</td>\n",
       "      <td>4420.0</td>\n",
       "    </tr>\n",
       "    <tr>\n",
       "      <th>2</th>\n",
       "      <td>Austria</td>\n",
       "      <td>4646.0</td>\n",
       "      <td>4806.0</td>\n",
       "      <td>4896.0</td>\n",
       "      <td>5016.0</td>\n",
       "    </tr>\n",
       "    <tr>\n",
       "      <th>3</th>\n",
       "      <td>Belgium</td>\n",
       "      <td>4286.0</td>\n",
       "      <td>4485.0</td>\n",
       "      <td>4522.0</td>\n",
       "      <td>4611.0</td>\n",
       "    </tr>\n",
       "    <tr>\n",
       "      <th>4</th>\n",
       "      <td>Canada</td>\n",
       "      <td>4320.0</td>\n",
       "      <td>4503.0</td>\n",
       "      <td>4492.0</td>\n",
       "      <td>4608.0</td>\n",
       "    </tr>\n",
       "    <tr>\n",
       "      <th>5</th>\n",
       "      <td>Chile</td>\n",
       "      <td>1485.0</td>\n",
       "      <td>1558.0</td>\n",
       "      <td>1689.0</td>\n",
       "      <td>1728.0</td>\n",
       "    </tr>\n",
       "  </tbody>\n",
       "</table>\n",
       "</div>"
      ],
      "text/plain": [
       "     Country   y2012   y2013   y2014   y2015\n",
       "1  Australia  3808.0  4177.0  4207.0  4420.0\n",
       "2    Austria  4646.0  4806.0  4896.0  5016.0\n",
       "3    Belgium  4286.0  4485.0  4522.0  4611.0\n",
       "4     Canada  4320.0  4503.0  4492.0  4608.0\n",
       "5      Chile  1485.0  1558.0  1689.0  1728.0"
      ]
     },
     "execution_count": 31,
     "metadata": {},
     "output_type": "execute_result"
    }
   ],
   "source": [
    "df2.head(5)"
   ]
  },
  {
   "cell_type": "markdown",
   "metadata": {
    "collapsed": true
   },
   "source": [
    "\n",
    "## **Merging different data**"
   ]
  },
  {
   "cell_type": "markdown",
   "metadata": {
    "collapsed": true
   },
   "source": [
    "It should be clear from this example that webscraping can be important to quickly grasp data.\n",
    "Webscraping may be particularly useful when you need to automate the data processing:\n",
    "\n",
    "* Webdata change regularly and need to be stored repeatedly.\n",
    "\n",
    "* A large number of data sources, for example tables, need to be loaded and merged.\n",
    "\n",
    "So let us elaborate the last point a bit more. If the two tables that we just scraped need to be merged, this can be done in Python. For example, if we want to merge on the column \"Country\", we would use the following code (for the moment we use the <font color=\"blue\">.head()</font> function to limit the output)."
   ]
  },
  {
   "cell_type": "code",
   "execution_count": 32,
   "metadata": {},
   "outputs": [
    {
     "data": {
      "text/html": [
       "<div>\n",
       "<style>\n",
       "    .dataframe thead tr:only-child th {\n",
       "        text-align: right;\n",
       "    }\n",
       "\n",
       "    .dataframe thead th {\n",
       "        text-align: left;\n",
       "    }\n",
       "\n",
       "    .dataframe tbody tr th {\n",
       "        vertical-align: top;\n",
       "    }\n",
       "</style>\n",
       "<table border=\"1\" class=\"dataframe\">\n",
       "  <thead>\n",
       "    <tr style=\"text-align: right;\">\n",
       "      <th></th>\n",
       "      <th>Country</th>\n",
       "      <th>Ranking</th>\n",
       "      <th>Patientrights</th>\n",
       "      <th>Accessibility</th>\n",
       "      <th>Outcomes</th>\n",
       "      <th>Range</th>\n",
       "      <th>Prevention</th>\n",
       "      <th>Pharmaceuticals</th>\n",
       "      <th>y2012</th>\n",
       "      <th>y2013</th>\n",
       "      <th>y2014</th>\n",
       "      <th>y2015</th>\n",
       "    </tr>\n",
       "  </thead>\n",
       "  <tbody>\n",
       "    <tr>\n",
       "      <th>0</th>\n",
       "      <td>Netherlands</td>\n",
       "      <td>1.0</td>\n",
       "      <td>1.0</td>\n",
       "      <td>7.0</td>\n",
       "      <td>1.0</td>\n",
       "      <td>1.0</td>\n",
       "      <td>13.0</td>\n",
       "      <td>1.0</td>\n",
       "      <td>NaN</td>\n",
       "      <td>NaN</td>\n",
       "      <td>NaN</td>\n",
       "      <td>NaN</td>\n",
       "    </tr>\n",
       "    <tr>\n",
       "      <th>1</th>\n",
       "      <td>Switzerland</td>\n",
       "      <td>2.0</td>\n",
       "      <td>12.0</td>\n",
       "      <td>1.0</td>\n",
       "      <td>3.0</td>\n",
       "      <td>14.0</td>\n",
       "      <td>6.0</td>\n",
       "      <td>9.0</td>\n",
       "      <td>NaN</td>\n",
       "      <td>NaN</td>\n",
       "      <td>NaN</td>\n",
       "      <td>NaN</td>\n",
       "    </tr>\n",
       "    <tr>\n",
       "      <th>2</th>\n",
       "      <td>Norway</td>\n",
       "      <td>3.0</td>\n",
       "      <td>22.0</td>\n",
       "      <td>22.0</td>\n",
       "      <td>1.0</td>\n",
       "      <td>3.0</td>\n",
       "      <td>1.0</td>\n",
       "      <td>7.0</td>\n",
       "      <td>NaN</td>\n",
       "      <td>NaN</td>\n",
       "      <td>NaN</td>\n",
       "      <td>NaN</td>\n",
       "    </tr>\n",
       "    <tr>\n",
       "      <th>3</th>\n",
       "      <td>Finland</td>\n",
       "      <td>4.0</td>\n",
       "      <td>6.0</td>\n",
       "      <td>10.0</td>\n",
       "      <td>6.0</td>\n",
       "      <td>4.0</td>\n",
       "      <td>6.0</td>\n",
       "      <td>1.0</td>\n",
       "      <td>NaN</td>\n",
       "      <td>NaN</td>\n",
       "      <td>NaN</td>\n",
       "      <td>NaN</td>\n",
       "    </tr>\n",
       "    <tr>\n",
       "      <th>4</th>\n",
       "      <td>Denmark</td>\n",
       "      <td>5.0</td>\n",
       "      <td>2.0</td>\n",
       "      <td>4.0</td>\n",
       "      <td>9.0</td>\n",
       "      <td>6.0</td>\n",
       "      <td>13.0</td>\n",
       "      <td>9.0</td>\n",
       "      <td>NaN</td>\n",
       "      <td>NaN</td>\n",
       "      <td>NaN</td>\n",
       "      <td>NaN</td>\n",
       "    </tr>\n",
       "    <tr>\n",
       "      <th>5</th>\n",
       "      <td>Belgium</td>\n",
       "      <td>6.0</td>\n",
       "      <td>22.0</td>\n",
       "      <td>1.0</td>\n",
       "      <td>9.0</td>\n",
       "      <td>4.0</td>\n",
       "      <td>19.0</td>\n",
       "      <td>9.0</td>\n",
       "      <td>NaN</td>\n",
       "      <td>NaN</td>\n",
       "      <td>NaN</td>\n",
       "      <td>NaN</td>\n",
       "    </tr>\n",
       "    <tr>\n",
       "      <th>6</th>\n",
       "      <td>Iceland</td>\n",
       "      <td>7.0</td>\n",
       "      <td>4.0</td>\n",
       "      <td>14.0</td>\n",
       "      <td>3.0</td>\n",
       "      <td>9.0</td>\n",
       "      <td>1.0</td>\n",
       "      <td>21.0</td>\n",
       "      <td>NaN</td>\n",
       "      <td>NaN</td>\n",
       "      <td>NaN</td>\n",
       "      <td>NaN</td>\n",
       "    </tr>\n",
       "    <tr>\n",
       "      <th>7</th>\n",
       "      <td>Luxemburg</td>\n",
       "      <td>8.0</td>\n",
       "      <td>17.0</td>\n",
       "      <td>7.0</td>\n",
       "      <td>6.0</td>\n",
       "      <td>6.0</td>\n",
       "      <td>5.0</td>\n",
       "      <td>16.0</td>\n",
       "      <td>NaN</td>\n",
       "      <td>NaN</td>\n",
       "      <td>NaN</td>\n",
       "      <td>NaN</td>\n",
       "    </tr>\n",
       "    <tr>\n",
       "      <th>8</th>\n",
       "      <td>Germany</td>\n",
       "      <td>9.0</td>\n",
       "      <td>10.0</td>\n",
       "      <td>7.0</td>\n",
       "      <td>3.0</td>\n",
       "      <td>21.0</td>\n",
       "      <td>6.0</td>\n",
       "      <td>1.0</td>\n",
       "      <td>NaN</td>\n",
       "      <td>NaN</td>\n",
       "      <td>NaN</td>\n",
       "      <td>NaN</td>\n",
       "    </tr>\n",
       "    <tr>\n",
       "      <th>9</th>\n",
       "      <td>Austria</td>\n",
       "      <td>10.0</td>\n",
       "      <td>9.0</td>\n",
       "      <td>4.0</td>\n",
       "      <td>16.0</td>\n",
       "      <td>11.0</td>\n",
       "      <td>19.0</td>\n",
       "      <td>9.0</td>\n",
       "      <td>NaN</td>\n",
       "      <td>NaN</td>\n",
       "      <td>NaN</td>\n",
       "      <td>NaN</td>\n",
       "    </tr>\n",
       "  </tbody>\n",
       "</table>\n",
       "</div>"
      ],
      "text/plain": [
       "         Country  Ranking  Patientrights  Accessibility  Outcomes  Range  \\\n",
       "0    Netherlands      1.0            1.0            7.0       1.0    1.0   \n",
       "1    Switzerland      2.0           12.0            1.0       3.0   14.0   \n",
       "2         Norway      3.0           22.0           22.0       1.0    3.0   \n",
       "3        Finland      4.0            6.0           10.0       6.0    4.0   \n",
       "4        Denmark      5.0            2.0            4.0       9.0    6.0   \n",
       "5        Belgium      6.0           22.0            1.0       9.0    4.0   \n",
       "6        Iceland      7.0            4.0           14.0       3.0    9.0   \n",
       "7      Luxemburg      8.0           17.0            7.0       6.0    6.0   \n",
       "8        Germany      9.0           10.0            7.0       3.0   21.0   \n",
       "9        Austria     10.0            9.0            4.0      16.0   11.0   \n",
       "\n",
       "   Prevention  Pharmaceuticals  y2012  y2013  y2014  y2015  \n",
       "0        13.0              1.0    NaN    NaN    NaN    NaN  \n",
       "1         6.0              9.0    NaN    NaN    NaN    NaN  \n",
       "2         1.0              7.0    NaN    NaN    NaN    NaN  \n",
       "3         6.0              1.0    NaN    NaN    NaN    NaN  \n",
       "4        13.0              9.0    NaN    NaN    NaN    NaN  \n",
       "5        19.0              9.0    NaN    NaN    NaN    NaN  \n",
       "6         1.0             21.0    NaN    NaN    NaN    NaN  \n",
       "7         5.0             16.0    NaN    NaN    NaN    NaN  \n",
       "8         6.0              1.0    NaN    NaN    NaN    NaN  \n",
       "9        19.0              9.0    NaN    NaN    NaN    NaN  "
      ]
     },
     "execution_count": 32,
     "metadata": {},
     "output_type": "execute_result"
    }
   ],
   "source": [
    "pd.merge(df1,df2, how='left', on='Country').head(10)"
   ]
  },
  {
   "cell_type": "markdown",
   "metadata": {},
   "source": [
    "If you removed the <font color=\"blue\">head()</font> function and printed out everything, you would see that all the health expenditure data give unexpected NaNs (missing values). Something must be wrong here. "
   ]
  },
  {
   "cell_type": "markdown",
   "metadata": {},
   "source": [
    "So we need to inspect this in more detail. Normally using the <font color=\"blue\">set</font> function to check for overlap between the countries in the two DataFrames should give a set. But now it is empty. This may suggest that the tables cannot merge because the <font color=\"red\">Country</font> names are not identical."
   ]
  },
  {
   "cell_type": "code",
   "execution_count": 33,
   "metadata": {},
   "outputs": [
    {
     "data": {
      "text/plain": [
       "set()"
      ]
     },
     "execution_count": 33,
     "metadata": {},
     "output_type": "execute_result"
    }
   ],
   "source": [
    "set(df1['Country']) & set(df2['Country'])"
   ]
  },
  {
   "cell_type": "markdown",
   "metadata": {},
   "source": [
    "Let's inspect these tables more closely. Something must be wrong because there are several countries that are overlapping and there are no spelling errors. If we write the table to a csv file to check the raw text we may discover hidden symbols."
   ]
  },
  {
   "cell_type": "code",
   "execution_count": 34,
   "metadata": {
    "collapsed": true
   },
   "outputs": [],
   "source": [
    "df1.to_csv('df1example.csv', sep=\",\")\n",
    "df2.to_csv('df2example.csv', sep=\",\")"
   ]
  },
  {
   "cell_type": "markdown",
   "metadata": {},
   "source": [
    "If you now open the csv file in a spreadsheet software you would discover that there are some hidden characters in the <font color=\"red\">df1example.csv</font> file. "
   ]
  },
  {
   "cell_type": "markdown",
   "metadata": {},
   "source": [
    "Using the <font color=\"blue\">repr</font> function we can reveal the hidden characters<sup>8</sup>."
   ]
  },
  {
   "cell_type": "code",
   "execution_count": 36,
   "metadata": {},
   "outputs": [
    {
     "data": {
      "text/plain": [
       "'1                \\xc2\\xa0Netherlands\\n2               \\xc2\\xa0\\xc2\\xa0Switzerland\\n3                     \\xc2\\xa0Norway\\n4                    \\xc2\\xa0Finland\\n5                    \\xc2\\xa0Denmark\\n6                    \\xc2\\xa0Belgium\\n7                    \\xc2\\xa0Iceland\\n8                  \\xc2\\xa0Luxemburg\\n9                    \\xc2\\xa0Germany\\n10                   \\xc2\\xa0Austria\\n11                    \\xc2\\xa0France\\n12                    \\xc2\\xa0Sweden\\n13                  \\xc2\\xa0Portugal\\n14                   \\xc2\\xa0England\\n15            \\xc2\\xa0Czech Republic\\n16                  \\xc2\\xa0Scotland\\n17                 \\xc2\\xa0Macedonia\\n18                   \\xc2\\xa0Estonia\\n19                     \\xc2\\xa0Spain\\n20                  \\xc2\\xa0Slovenia\\n21                  \\xc2\\xa0Slovakia\\n22                     \\xc2\\xa0Italy\\n23                   \\xc2\\xa0Ireland\\n24                   \\xc2\\xa0Croatia\\n25                    \\xc2\\xa0Cyprus\\n26                   \\xc2\\xa0Hungary\\n27                    \\xc2\\xa0Latvia\\n28                     \\xc2\\xa0Malta\\n29                    \\xc2\\xa0Greece\\n30                  \\xc2\\xa0Bulgaria\\n31                   \\xc2\\xa0Albania\\n32                    \\xc2\\xa0Poland\\n33                 \\xc2\\xa0Lithuania\\n34                    \\xc2\\xa0Serbia\\n35                \\xc2\\xa0Montenegro\\n36                   \\xc2\\xa0Romania\\n37    \\xc2\\xa0Bosnia and Herzegovina\\nName: Country, dtype: object'"
      ]
     },
     "execution_count": 36,
     "metadata": {},
     "output_type": "execute_result"
    }
   ],
   "source": [
    "repr(df1['Country'])"
   ]
  },
  {
   "cell_type": "code",
   "execution_count": 37,
   "metadata": {},
   "outputs": [
    {
     "data": {
      "text/plain": [
       "'1           Australia\\n2             Austria\\n3             Belgium\\n4              Canada\\n5               Chile\\n6      Czech Republic\\n7             Denmark\\n8             Estonia\\n9             Finland\\n10             France\\n11            Germany\\n12             Greece\\n13            Hungary\\n14            Iceland\\n15            Ireland\\n16             Israel\\n17              Italy\\n18              Japan\\n19              Korea\\n20             Latvia\\n21         Luxembourg\\n22             Mexico\\n23        Netherlands\\n24        New Zealand\\n25             Norway\\n26             Poland\\n27           Portugal\\n28    Slovak Republic\\n29           Slovenia\\n30              Spain\\n31             Sweden\\n32        Switzerland\\n33             Turkey\\n34     United Kingdom\\n35      United States\\nName: Country, dtype: object'"
      ]
     },
     "execution_count": 37,
     "metadata": {},
     "output_type": "execute_result"
    }
   ],
   "source": [
    "repr(df2['Country'])"
   ]
  },
  {
   "cell_type": "markdown",
   "metadata": {},
   "source": [
    "Luckily, all unwanted hidden characters are identical across the countries. That is, the characters are \"\\xc2\\xa0\". Using the <font color=\"blue\">replace</font> function we could remove this part."
   ]
  },
  {
   "cell_type": "markdown",
   "metadata": {},
   "source": [
    "Now we are going to loop through each country and see if we can remove the unwanted characters."
   ]
  },
  {
   "cell_type": "code",
   "execution_count": 38,
   "metadata": {
    "collapsed": true
   },
   "outputs": [],
   "source": [
    "for i in range(1,len(df1)):\n",
    "    repr(df1['Country'][i])\n",
    "    df1['Country'][i] = df1['Country'][i].replace(\"\\xc2\\xa0\", \"\")"
   ]
  },
  {
   "cell_type": "markdown",
   "metadata": {},
   "source": [
    "Alright. To inspect if it worked, we could use <font color=\"blue\">repr</font> function again and should now see that the undesired characters are removed. Using the <font color=\"blue\">set</font> function again we can see now that there are quite some countries that overlap:"
   ]
  },
  {
   "cell_type": "code",
   "execution_count": 39,
   "metadata": {},
   "outputs": [
    {
     "data": {
      "text/plain": [
       "{'Austria',\n",
       " 'Belgium',\n",
       " 'Czech Republic',\n",
       " 'Denmark',\n",
       " 'Estonia',\n",
       " 'Finland',\n",
       " 'France',\n",
       " 'Germany',\n",
       " 'Greece',\n",
       " 'Hungary',\n",
       " 'Iceland',\n",
       " 'Ireland',\n",
       " 'Italy',\n",
       " 'Latvia',\n",
       " 'Netherlands',\n",
       " 'Norway',\n",
       " 'Poland',\n",
       " 'Portugal',\n",
       " 'Slovenia',\n",
       " 'Spain',\n",
       " 'Sweden',\n",
       " 'Switzerland'}"
      ]
     },
     "execution_count": 39,
     "metadata": {},
     "output_type": "execute_result"
    }
   ],
   "source": [
    "set(df1['Country']) & set(df2['Country'])"
   ]
  },
  {
   "cell_type": "markdown",
   "metadata": {},
   "source": [
    "Now it is about time to merge the two tables. A few countries have NaNs but in these cases for the expenditure data there were no values. Also try using <font color=\"blue\">pd.merge</font> using the option <font color=\"blue\">how='right'</font>."
   ]
  },
  {
   "cell_type": "code",
   "execution_count": 40,
   "metadata": {},
   "outputs": [
    {
     "data": {
      "text/html": [
       "<div>\n",
       "<style>\n",
       "    .dataframe thead tr:only-child th {\n",
       "        text-align: right;\n",
       "    }\n",
       "\n",
       "    .dataframe thead th {\n",
       "        text-align: left;\n",
       "    }\n",
       "\n",
       "    .dataframe tbody tr th {\n",
       "        vertical-align: top;\n",
       "    }\n",
       "</style>\n",
       "<table border=\"1\" class=\"dataframe\">\n",
       "  <thead>\n",
       "    <tr style=\"text-align: right;\">\n",
       "      <th></th>\n",
       "      <th>Country</th>\n",
       "      <th>Ranking</th>\n",
       "      <th>Patientrights</th>\n",
       "      <th>Accessibility</th>\n",
       "      <th>Outcomes</th>\n",
       "      <th>Range</th>\n",
       "      <th>Prevention</th>\n",
       "      <th>Pharmaceuticals</th>\n",
       "      <th>y2012</th>\n",
       "      <th>y2013</th>\n",
       "      <th>y2014</th>\n",
       "      <th>y2015</th>\n",
       "    </tr>\n",
       "  </thead>\n",
       "  <tbody>\n",
       "    <tr>\n",
       "      <th>0</th>\n",
       "      <td>Netherlands</td>\n",
       "      <td>1.0</td>\n",
       "      <td>1.0</td>\n",
       "      <td>7.0</td>\n",
       "      <td>1.0</td>\n",
       "      <td>1.0</td>\n",
       "      <td>13.0</td>\n",
       "      <td>1.0</td>\n",
       "      <td>5044.0</td>\n",
       "      <td>5250.0</td>\n",
       "      <td>5277.0</td>\n",
       "      <td>5343.0</td>\n",
       "    </tr>\n",
       "    <tr>\n",
       "      <th>1</th>\n",
       "      <td>Switzerland</td>\n",
       "      <td>2.0</td>\n",
       "      <td>12.0</td>\n",
       "      <td>1.0</td>\n",
       "      <td>3.0</td>\n",
       "      <td>14.0</td>\n",
       "      <td>6.0</td>\n",
       "      <td>9.0</td>\n",
       "      <td>6289.0</td>\n",
       "      <td>6635.0</td>\n",
       "      <td>6787.0</td>\n",
       "      <td>6935.0</td>\n",
       "    </tr>\n",
       "    <tr>\n",
       "      <th>2</th>\n",
       "      <td>Norway</td>\n",
       "      <td>3.0</td>\n",
       "      <td>22.0</td>\n",
       "      <td>22.0</td>\n",
       "      <td>1.0</td>\n",
       "      <td>3.0</td>\n",
       "      <td>1.0</td>\n",
       "      <td>7.0</td>\n",
       "      <td>5738.0</td>\n",
       "      <td>5967.0</td>\n",
       "      <td>6081.0</td>\n",
       "      <td>6567.0</td>\n",
       "    </tr>\n",
       "    <tr>\n",
       "      <th>3</th>\n",
       "      <td>Finland</td>\n",
       "      <td>4.0</td>\n",
       "      <td>6.0</td>\n",
       "      <td>10.0</td>\n",
       "      <td>6.0</td>\n",
       "      <td>4.0</td>\n",
       "      <td>6.0</td>\n",
       "      <td>1.0</td>\n",
       "      <td>3759.0</td>\n",
       "      <td>3891.0</td>\n",
       "      <td>3870.0</td>\n",
       "      <td>3984.0</td>\n",
       "    </tr>\n",
       "    <tr>\n",
       "      <th>4</th>\n",
       "      <td>Denmark</td>\n",
       "      <td>5.0</td>\n",
       "      <td>2.0</td>\n",
       "      <td>4.0</td>\n",
       "      <td>9.0</td>\n",
       "      <td>6.0</td>\n",
       "      <td>13.0</td>\n",
       "      <td>9.0</td>\n",
       "      <td>4545.0</td>\n",
       "      <td>4708.0</td>\n",
       "      <td>4857.0</td>\n",
       "      <td>4943.0</td>\n",
       "    </tr>\n",
       "    <tr>\n",
       "      <th>5</th>\n",
       "      <td>Belgium</td>\n",
       "      <td>6.0</td>\n",
       "      <td>22.0</td>\n",
       "      <td>1.0</td>\n",
       "      <td>9.0</td>\n",
       "      <td>4.0</td>\n",
       "      <td>19.0</td>\n",
       "      <td>9.0</td>\n",
       "      <td>4286.0</td>\n",
       "      <td>4485.0</td>\n",
       "      <td>4522.0</td>\n",
       "      <td>4611.0</td>\n",
       "    </tr>\n",
       "    <tr>\n",
       "      <th>6</th>\n",
       "      <td>Iceland</td>\n",
       "      <td>7.0</td>\n",
       "      <td>4.0</td>\n",
       "      <td>14.0</td>\n",
       "      <td>3.0</td>\n",
       "      <td>9.0</td>\n",
       "      <td>1.0</td>\n",
       "      <td>21.0</td>\n",
       "      <td>3506.0</td>\n",
       "      <td>3739.0</td>\n",
       "      <td>3897.0</td>\n",
       "      <td>4012.0</td>\n",
       "    </tr>\n",
       "    <tr>\n",
       "      <th>7</th>\n",
       "      <td>Luxemburg</td>\n",
       "      <td>8.0</td>\n",
       "      <td>17.0</td>\n",
       "      <td>7.0</td>\n",
       "      <td>6.0</td>\n",
       "      <td>6.0</td>\n",
       "      <td>5.0</td>\n",
       "      <td>16.0</td>\n",
       "      <td>NaN</td>\n",
       "      <td>NaN</td>\n",
       "      <td>NaN</td>\n",
       "      <td>NaN</td>\n",
       "    </tr>\n",
       "    <tr>\n",
       "      <th>8</th>\n",
       "      <td>Germany</td>\n",
       "      <td>9.0</td>\n",
       "      <td>10.0</td>\n",
       "      <td>7.0</td>\n",
       "      <td>3.0</td>\n",
       "      <td>21.0</td>\n",
       "      <td>6.0</td>\n",
       "      <td>1.0</td>\n",
       "      <td>4695.0</td>\n",
       "      <td>4922.0</td>\n",
       "      <td>5119.0</td>\n",
       "      <td>5267.0</td>\n",
       "    </tr>\n",
       "    <tr>\n",
       "      <th>9</th>\n",
       "      <td>Austria</td>\n",
       "      <td>10.0</td>\n",
       "      <td>9.0</td>\n",
       "      <td>4.0</td>\n",
       "      <td>16.0</td>\n",
       "      <td>11.0</td>\n",
       "      <td>19.0</td>\n",
       "      <td>9.0</td>\n",
       "      <td>4646.0</td>\n",
       "      <td>4806.0</td>\n",
       "      <td>4896.0</td>\n",
       "      <td>5016.0</td>\n",
       "    </tr>\n",
       "    <tr>\n",
       "      <th>10</th>\n",
       "      <td>France</td>\n",
       "      <td>11.0</td>\n",
       "      <td>12.0</td>\n",
       "      <td>10.0</td>\n",
       "      <td>9.0</td>\n",
       "      <td>14.0</td>\n",
       "      <td>13.0</td>\n",
       "      <td>13.0</td>\n",
       "      <td>4063.0</td>\n",
       "      <td>4292.0</td>\n",
       "      <td>4367.0</td>\n",
       "      <td>4407.0</td>\n",
       "    </tr>\n",
       "    <tr>\n",
       "      <th>11</th>\n",
       "      <td>Sweden</td>\n",
       "      <td>12.0</td>\n",
       "      <td>12.0</td>\n",
       "      <td>35.0</td>\n",
       "      <td>6.0</td>\n",
       "      <td>1.0</td>\n",
       "      <td>1.0</td>\n",
       "      <td>7.0</td>\n",
       "      <td>4860.0</td>\n",
       "      <td>5003.0</td>\n",
       "      <td>5065.0</td>\n",
       "      <td>5228.0</td>\n",
       "    </tr>\n",
       "    <tr>\n",
       "      <th>12</th>\n",
       "      <td>Portugal</td>\n",
       "      <td>13.0</td>\n",
       "      <td>6.0</td>\n",
       "      <td>14.0</td>\n",
       "      <td>14.0</td>\n",
       "      <td>21.0</td>\n",
       "      <td>19.0</td>\n",
       "      <td>19.0</td>\n",
       "      <td>2536.0</td>\n",
       "      <td>2539.0</td>\n",
       "      <td>2584.0</td>\n",
       "      <td>2631.0</td>\n",
       "    </tr>\n",
       "    <tr>\n",
       "      <th>13</th>\n",
       "      <td>England</td>\n",
       "      <td>14.0</td>\n",
       "      <td>8.0</td>\n",
       "      <td>30.0</td>\n",
       "      <td>16.0</td>\n",
       "      <td>6.0</td>\n",
       "      <td>6.0</td>\n",
       "      <td>1.0</td>\n",
       "      <td>NaN</td>\n",
       "      <td>NaN</td>\n",
       "      <td>NaN</td>\n",
       "      <td>NaN</td>\n",
       "    </tr>\n",
       "    <tr>\n",
       "      <th>14</th>\n",
       "      <td>Czech Republic</td>\n",
       "      <td>15.0</td>\n",
       "      <td>22.0</td>\n",
       "      <td>10.0</td>\n",
       "      <td>16.0</td>\n",
       "      <td>11.0</td>\n",
       "      <td>26.0</td>\n",
       "      <td>13.0</td>\n",
       "      <td>2028.0</td>\n",
       "      <td>2330.0</td>\n",
       "      <td>2386.0</td>\n",
       "      <td>2464.0</td>\n",
       "    </tr>\n",
       "    <tr>\n",
       "      <th>15</th>\n",
       "      <td>Scotland</td>\n",
       "      <td>16.0</td>\n",
       "      <td>17.0</td>\n",
       "      <td>25.0</td>\n",
       "      <td>16.0</td>\n",
       "      <td>9.0</td>\n",
       "      <td>13.0</td>\n",
       "      <td>1.0</td>\n",
       "      <td>NaN</td>\n",
       "      <td>NaN</td>\n",
       "      <td>NaN</td>\n",
       "      <td>NaN</td>\n",
       "    </tr>\n",
       "    <tr>\n",
       "      <th>16</th>\n",
       "      <td>Macedonia</td>\n",
       "      <td>17.0</td>\n",
       "      <td>4.0</td>\n",
       "      <td>3.0</td>\n",
       "      <td>33.0</td>\n",
       "      <td>21.0</td>\n",
       "      <td>6.0</td>\n",
       "      <td>21.0</td>\n",
       "      <td>NaN</td>\n",
       "      <td>NaN</td>\n",
       "      <td>NaN</td>\n",
       "      <td>NaN</td>\n",
       "    </tr>\n",
       "    <tr>\n",
       "      <th>17</th>\n",
       "      <td>Estonia</td>\n",
       "      <td>18.0</td>\n",
       "      <td>10.0</td>\n",
       "      <td>19.0</td>\n",
       "      <td>16.0</td>\n",
       "      <td>11.0</td>\n",
       "      <td>36.0</td>\n",
       "      <td>21.0</td>\n",
       "      <td>1503.0</td>\n",
       "      <td>1623.0</td>\n",
       "      <td>1725.0</td>\n",
       "      <td>1824.0</td>\n",
       "    </tr>\n",
       "    <tr>\n",
       "      <th>18</th>\n",
       "      <td>Spain</td>\n",
       "      <td>19.0</td>\n",
       "      <td>24.0</td>\n",
       "      <td>30.0</td>\n",
       "      <td>14.0</td>\n",
       "      <td>14.0</td>\n",
       "      <td>1.0</td>\n",
       "      <td>16.0</td>\n",
       "      <td>2929.0</td>\n",
       "      <td>2952.0</td>\n",
       "      <td>3053.0</td>\n",
       "      <td>3153.0</td>\n",
       "    </tr>\n",
       "    <tr>\n",
       "      <th>19</th>\n",
       "      <td>Slovenia</td>\n",
       "      <td>20.0</td>\n",
       "      <td>24.0</td>\n",
       "      <td>27.0</td>\n",
       "      <td>9.0</td>\n",
       "      <td>18.0</td>\n",
       "      <td>13.0</td>\n",
       "      <td>16.0</td>\n",
       "      <td>2487.0</td>\n",
       "      <td>2549.0</td>\n",
       "      <td>2599.0</td>\n",
       "      <td>2644.0</td>\n",
       "    </tr>\n",
       "    <tr>\n",
       "      <th>20</th>\n",
       "      <td>Slovakia</td>\n",
       "      <td>21.0</td>\n",
       "      <td>15.0</td>\n",
       "      <td>10.0</td>\n",
       "      <td>25.0</td>\n",
       "      <td>24.0</td>\n",
       "      <td>19.0</td>\n",
       "      <td>13.0</td>\n",
       "      <td>NaN</td>\n",
       "      <td>NaN</td>\n",
       "      <td>NaN</td>\n",
       "      <td>NaN</td>\n",
       "    </tr>\n",
       "    <tr>\n",
       "      <th>21</th>\n",
       "      <td>Italy</td>\n",
       "      <td>22.0</td>\n",
       "      <td>19.0</td>\n",
       "      <td>22.0</td>\n",
       "      <td>22.0</td>\n",
       "      <td>24.0</td>\n",
       "      <td>6.0</td>\n",
       "      <td>21.0</td>\n",
       "      <td>3174.0</td>\n",
       "      <td>3142.0</td>\n",
       "      <td>3207.0</td>\n",
       "      <td>3272.0</td>\n",
       "    </tr>\n",
       "    <tr>\n",
       "      <th>22</th>\n",
       "      <td>Ireland</td>\n",
       "      <td>23.0</td>\n",
       "      <td>30.0</td>\n",
       "      <td>35.0</td>\n",
       "      <td>9.0</td>\n",
       "      <td>19.0</td>\n",
       "      <td>13.0</td>\n",
       "      <td>1.0</td>\n",
       "      <td>4658.0</td>\n",
       "      <td>4980.0</td>\n",
       "      <td>5001.0</td>\n",
       "      <td>5131.0</td>\n",
       "    </tr>\n",
       "    <tr>\n",
       "      <th>23</th>\n",
       "      <td>Croatia</td>\n",
       "      <td>24.0</td>\n",
       "      <td>19.0</td>\n",
       "      <td>14.0</td>\n",
       "      <td>23.0</td>\n",
       "      <td>19.0</td>\n",
       "      <td>34.0</td>\n",
       "      <td>21.0</td>\n",
       "      <td>NaN</td>\n",
       "      <td>NaN</td>\n",
       "      <td>NaN</td>\n",
       "      <td>NaN</td>\n",
       "    </tr>\n",
       "    <tr>\n",
       "      <th>24</th>\n",
       "      <td>Cyprus</td>\n",
       "      <td>25.0</td>\n",
       "      <td>30.0</td>\n",
       "      <td>19.0</td>\n",
       "      <td>16.0</td>\n",
       "      <td>30.0</td>\n",
       "      <td>26.0</td>\n",
       "      <td>19.0</td>\n",
       "      <td>NaN</td>\n",
       "      <td>NaN</td>\n",
       "      <td>NaN</td>\n",
       "      <td>NaN</td>\n",
       "    </tr>\n",
       "    <tr>\n",
       "      <th>25</th>\n",
       "      <td>Hungary</td>\n",
       "      <td>26.0</td>\n",
       "      <td>24.0</td>\n",
       "      <td>14.0</td>\n",
       "      <td>30.0</td>\n",
       "      <td>24.0</td>\n",
       "      <td>19.0</td>\n",
       "      <td>21.0</td>\n",
       "      <td>1704.0</td>\n",
       "      <td>1756.0</td>\n",
       "      <td>1797.0</td>\n",
       "      <td>1845.0</td>\n",
       "    </tr>\n",
       "    <tr>\n",
       "      <th>26</th>\n",
       "      <td>Latvia</td>\n",
       "      <td>27.0</td>\n",
       "      <td>15.0</td>\n",
       "      <td>19.0</td>\n",
       "      <td>26.0</td>\n",
       "      <td>28.0</td>\n",
       "      <td>26.0</td>\n",
       "      <td>28.0</td>\n",
       "      <td>1149.0</td>\n",
       "      <td>1219.0</td>\n",
       "      <td>1295.0</td>\n",
       "      <td>1370.0</td>\n",
       "    </tr>\n",
       "    <tr>\n",
       "      <th>27</th>\n",
       "      <td>Malta</td>\n",
       "      <td>28.0</td>\n",
       "      <td>29.0</td>\n",
       "      <td>25.0</td>\n",
       "      <td>30.0</td>\n",
       "      <td>14.0</td>\n",
       "      <td>6.0</td>\n",
       "      <td>33.0</td>\n",
       "      <td>NaN</td>\n",
       "      <td>NaN</td>\n",
       "      <td>NaN</td>\n",
       "      <td>NaN</td>\n",
       "    </tr>\n",
       "    <tr>\n",
       "      <th>28</th>\n",
       "      <td>Greece</td>\n",
       "      <td>29.0</td>\n",
       "      <td>36.0</td>\n",
       "      <td>22.0</td>\n",
       "      <td>23.0</td>\n",
       "      <td>31.0</td>\n",
       "      <td>19.0</td>\n",
       "      <td>21.0</td>\n",
       "      <td>2324.0</td>\n",
       "      <td>2340.0</td>\n",
       "      <td>2220.0</td>\n",
       "      <td>2245.0</td>\n",
       "    </tr>\n",
       "    <tr>\n",
       "      <th>29</th>\n",
       "      <td>Bulgaria</td>\n",
       "      <td>30.0</td>\n",
       "      <td>34.0</td>\n",
       "      <td>14.0</td>\n",
       "      <td>26.0</td>\n",
       "      <td>35.0</td>\n",
       "      <td>26.0</td>\n",
       "      <td>28.0</td>\n",
       "      <td>NaN</td>\n",
       "      <td>NaN</td>\n",
       "      <td>NaN</td>\n",
       "      <td>NaN</td>\n",
       "    </tr>\n",
       "    <tr>\n",
       "      <th>30</th>\n",
       "      <td>Albania</td>\n",
       "      <td>31.0</td>\n",
       "      <td>28.0</td>\n",
       "      <td>4.0</td>\n",
       "      <td>33.0</td>\n",
       "      <td>37.0</td>\n",
       "      <td>32.0</td>\n",
       "      <td>36.0</td>\n",
       "      <td>NaN</td>\n",
       "      <td>NaN</td>\n",
       "      <td>NaN</td>\n",
       "      <td>NaN</td>\n",
       "    </tr>\n",
       "    <tr>\n",
       "      <th>31</th>\n",
       "      <td>Poland</td>\n",
       "      <td>32.0</td>\n",
       "      <td>24.0</td>\n",
       "      <td>30.0</td>\n",
       "      <td>33.0</td>\n",
       "      <td>24.0</td>\n",
       "      <td>26.0</td>\n",
       "      <td>28.0</td>\n",
       "      <td>1464.0</td>\n",
       "      <td>1580.0</td>\n",
       "      <td>1625.0</td>\n",
       "      <td>1677.0</td>\n",
       "    </tr>\n",
       "    <tr>\n",
       "      <th>32</th>\n",
       "      <td>Lithuania</td>\n",
       "      <td>33.0</td>\n",
       "      <td>19.0</td>\n",
       "      <td>30.0</td>\n",
       "      <td>26.0</td>\n",
       "      <td>28.0</td>\n",
       "      <td>37.0</td>\n",
       "      <td>28.0</td>\n",
       "      <td>NaN</td>\n",
       "      <td>NaN</td>\n",
       "      <td>NaN</td>\n",
       "      <td>NaN</td>\n",
       "    </tr>\n",
       "    <tr>\n",
       "      <th>33</th>\n",
       "      <td>Serbia</td>\n",
       "      <td>34.0</td>\n",
       "      <td>30.0</td>\n",
       "      <td>27.0</td>\n",
       "      <td>36.0</td>\n",
       "      <td>31.0</td>\n",
       "      <td>25.0</td>\n",
       "      <td>33.0</td>\n",
       "      <td>NaN</td>\n",
       "      <td>NaN</td>\n",
       "      <td>NaN</td>\n",
       "      <td>NaN</td>\n",
       "    </tr>\n",
       "    <tr>\n",
       "      <th>34</th>\n",
       "      <td>Montenegro</td>\n",
       "      <td>35.0</td>\n",
       "      <td>35.0</td>\n",
       "      <td>27.0</td>\n",
       "      <td>26.0</td>\n",
       "      <td>35.0</td>\n",
       "      <td>32.0</td>\n",
       "      <td>36.0</td>\n",
       "      <td>NaN</td>\n",
       "      <td>NaN</td>\n",
       "      <td>NaN</td>\n",
       "      <td>NaN</td>\n",
       "    </tr>\n",
       "    <tr>\n",
       "      <th>35</th>\n",
       "      <td>Romania</td>\n",
       "      <td>36.0</td>\n",
       "      <td>30.0</td>\n",
       "      <td>30.0</td>\n",
       "      <td>36.0</td>\n",
       "      <td>34.0</td>\n",
       "      <td>26.0</td>\n",
       "      <td>28.0</td>\n",
       "      <td>NaN</td>\n",
       "      <td>NaN</td>\n",
       "      <td>NaN</td>\n",
       "      <td>NaN</td>\n",
       "    </tr>\n",
       "    <tr>\n",
       "      <th>36</th>\n",
       "      <td>Bosnia and Herzegovina</td>\n",
       "      <td>37.0</td>\n",
       "      <td>37.0</td>\n",
       "      <td>37.0</td>\n",
       "      <td>30.0</td>\n",
       "      <td>31.0</td>\n",
       "      <td>34.0</td>\n",
       "      <td>33.0</td>\n",
       "      <td>NaN</td>\n",
       "      <td>NaN</td>\n",
       "      <td>NaN</td>\n",
       "      <td>NaN</td>\n",
       "    </tr>\n",
       "  </tbody>\n",
       "</table>\n",
       "</div>"
      ],
      "text/plain": [
       "                    Country  Ranking  Patientrights  Accessibility  Outcomes  \\\n",
       "0               Netherlands      1.0            1.0            7.0       1.0   \n",
       "1               Switzerland      2.0           12.0            1.0       3.0   \n",
       "2                    Norway      3.0           22.0           22.0       1.0   \n",
       "3                   Finland      4.0            6.0           10.0       6.0   \n",
       "4                   Denmark      5.0            2.0            4.0       9.0   \n",
       "5                   Belgium      6.0           22.0            1.0       9.0   \n",
       "6                   Iceland      7.0            4.0           14.0       3.0   \n",
       "7                 Luxemburg      8.0           17.0            7.0       6.0   \n",
       "8                   Germany      9.0           10.0            7.0       3.0   \n",
       "9                   Austria     10.0            9.0            4.0      16.0   \n",
       "10                   France     11.0           12.0           10.0       9.0   \n",
       "11                   Sweden     12.0           12.0           35.0       6.0   \n",
       "12                 Portugal     13.0            6.0           14.0      14.0   \n",
       "13                  England     14.0            8.0           30.0      16.0   \n",
       "14           Czech Republic     15.0           22.0           10.0      16.0   \n",
       "15                 Scotland     16.0           17.0           25.0      16.0   \n",
       "16                Macedonia     17.0            4.0            3.0      33.0   \n",
       "17                  Estonia     18.0           10.0           19.0      16.0   \n",
       "18                    Spain     19.0           24.0           30.0      14.0   \n",
       "19                 Slovenia     20.0           24.0           27.0       9.0   \n",
       "20                 Slovakia     21.0           15.0           10.0      25.0   \n",
       "21                    Italy     22.0           19.0           22.0      22.0   \n",
       "22                  Ireland     23.0           30.0           35.0       9.0   \n",
       "23                  Croatia     24.0           19.0           14.0      23.0   \n",
       "24                   Cyprus     25.0           30.0           19.0      16.0   \n",
       "25                  Hungary     26.0           24.0           14.0      30.0   \n",
       "26                   Latvia     27.0           15.0           19.0      26.0   \n",
       "27                    Malta     28.0           29.0           25.0      30.0   \n",
       "28                   Greece     29.0           36.0           22.0      23.0   \n",
       "29                 Bulgaria     30.0           34.0           14.0      26.0   \n",
       "30                  Albania     31.0           28.0            4.0      33.0   \n",
       "31                   Poland     32.0           24.0           30.0      33.0   \n",
       "32                Lithuania     33.0           19.0           30.0      26.0   \n",
       "33                   Serbia     34.0           30.0           27.0      36.0   \n",
       "34               Montenegro     35.0           35.0           27.0      26.0   \n",
       "35                  Romania     36.0           30.0           30.0      36.0   \n",
       "36   Bosnia and Herzegovina     37.0           37.0           37.0      30.0   \n",
       "\n",
       "    Range  Prevention  Pharmaceuticals   y2012   y2013   y2014   y2015  \n",
       "0     1.0        13.0              1.0  5044.0  5250.0  5277.0  5343.0  \n",
       "1    14.0         6.0              9.0  6289.0  6635.0  6787.0  6935.0  \n",
       "2     3.0         1.0              7.0  5738.0  5967.0  6081.0  6567.0  \n",
       "3     4.0         6.0              1.0  3759.0  3891.0  3870.0  3984.0  \n",
       "4     6.0        13.0              9.0  4545.0  4708.0  4857.0  4943.0  \n",
       "5     4.0        19.0              9.0  4286.0  4485.0  4522.0  4611.0  \n",
       "6     9.0         1.0             21.0  3506.0  3739.0  3897.0  4012.0  \n",
       "7     6.0         5.0             16.0     NaN     NaN     NaN     NaN  \n",
       "8    21.0         6.0              1.0  4695.0  4922.0  5119.0  5267.0  \n",
       "9    11.0        19.0              9.0  4646.0  4806.0  4896.0  5016.0  \n",
       "10   14.0        13.0             13.0  4063.0  4292.0  4367.0  4407.0  \n",
       "11    1.0         1.0              7.0  4860.0  5003.0  5065.0  5228.0  \n",
       "12   21.0        19.0             19.0  2536.0  2539.0  2584.0  2631.0  \n",
       "13    6.0         6.0              1.0     NaN     NaN     NaN     NaN  \n",
       "14   11.0        26.0             13.0  2028.0  2330.0  2386.0  2464.0  \n",
       "15    9.0        13.0              1.0     NaN     NaN     NaN     NaN  \n",
       "16   21.0         6.0             21.0     NaN     NaN     NaN     NaN  \n",
       "17   11.0        36.0             21.0  1503.0  1623.0  1725.0  1824.0  \n",
       "18   14.0         1.0             16.0  2929.0  2952.0  3053.0  3153.0  \n",
       "19   18.0        13.0             16.0  2487.0  2549.0  2599.0  2644.0  \n",
       "20   24.0        19.0             13.0     NaN     NaN     NaN     NaN  \n",
       "21   24.0         6.0             21.0  3174.0  3142.0  3207.0  3272.0  \n",
       "22   19.0        13.0              1.0  4658.0  4980.0  5001.0  5131.0  \n",
       "23   19.0        34.0             21.0     NaN     NaN     NaN     NaN  \n",
       "24   30.0        26.0             19.0     NaN     NaN     NaN     NaN  \n",
       "25   24.0        19.0             21.0  1704.0  1756.0  1797.0  1845.0  \n",
       "26   28.0        26.0             28.0  1149.0  1219.0  1295.0  1370.0  \n",
       "27   14.0         6.0             33.0     NaN     NaN     NaN     NaN  \n",
       "28   31.0        19.0             21.0  2324.0  2340.0  2220.0  2245.0  \n",
       "29   35.0        26.0             28.0     NaN     NaN     NaN     NaN  \n",
       "30   37.0        32.0             36.0     NaN     NaN     NaN     NaN  \n",
       "31   24.0        26.0             28.0  1464.0  1580.0  1625.0  1677.0  \n",
       "32   28.0        37.0             28.0     NaN     NaN     NaN     NaN  \n",
       "33   31.0        25.0             33.0     NaN     NaN     NaN     NaN  \n",
       "34   35.0        32.0             36.0     NaN     NaN     NaN     NaN  \n",
       "35   34.0        26.0             28.0     NaN     NaN     NaN     NaN  \n",
       "36   31.0        34.0             33.0     NaN     NaN     NaN     NaN  "
      ]
     },
     "execution_count": 40,
     "metadata": {},
     "output_type": "execute_result"
    }
   ],
   "source": [
    "pd.merge(df1,df2, how='left', on='Country')"
   ]
  },
  {
   "cell_type": "markdown",
   "metadata": {},
   "source": [
    "And we finally make a new DataFrame <font color=\"red\">df3</font> from the merged data. After that we drop any rows where there are NaNs."
   ]
  },
  {
   "cell_type": "code",
   "execution_count": 41,
   "metadata": {
    "collapsed": true
   },
   "outputs": [],
   "source": [
    "df3 = pd.merge(df1,df2, how='left', on='Country')\n",
    "df3.dropna(how='any', inplace=True)"
   ]
  },
  {
   "cell_type": "markdown",
   "metadata": {
    "collapsed": true
   },
   "source": [
    "\n",
    "## **Data visualization**"
   ]
  },
  {
   "cell_type": "markdown",
   "metadata": {
    "collapsed": true
   },
   "source": [
    "We managed to bring the data together. The data are ready for analyses and visualization. \n",
    "We could visually inspect the relation between different variables using a scatterplot. The package **adjustText** takes care that the country labels do not overlap<font color=\"gray\"><sup>9</sup></font>."
   ]
  },
  {
   "cell_type": "code",
   "execution_count": 42,
   "metadata": {
    "collapsed": true
   },
   "outputs": [],
   "source": [
    "reload(sys)\n",
    "sys.setdefaultencoding('utf8')"
   ]
  },
  {
   "cell_type": "code",
   "execution_count": 43,
   "metadata": {},
   "outputs": [
    {
     "data": {
      "image/png": "[encoded data removed]",
      "text/plain": [
       "<matplotlib.figure.Figure at 0x7f49b96c7450>"
      ]
     },
     "metadata": {},
     "output_type": "display_data"
    }
   ],
   "source": [
    "import matplotlib as mpl\n",
    "import matplotlib.pyplot as plt\n",
    "from adjustText import adjust_text\n",
    "\n",
    "def plot_df3(adjust=True):\n",
    "    mpl.rcParams['font.size'] = 12.0\n",
    "    plt.figure(figsize = (14, 14))\n",
    "    plt.scatter(df3.Patientrights, df3.Outcomes, facecolors='none', edgecolors='red', linewidth=1.2, s=0.1*df3.y2012)\n",
    "    texts = []\n",
    "    plt.title('Relation between different health parameters')\n",
    "    plt.xlabel('Patient rights')\n",
    "    plt.ylabel('Outcomes')\n",
    "    plt.xlim(0, 40)\n",
    "    plt.ylim(0, 40)\n",
    "\n",
    "    for x, y, s in zip(df3['Patientrights'], df3['Outcomes'], df3['Country']):\n",
    "        texts.append(plt.text(x, y, s, size=12))\n",
    "    if adjust:\n",
    "        plt.title(str(adjust_text(texts, arrowprops=dict(arrowstyle=\"-\", color='black', lw=0.5))))\n",
    "_ = plot_df3()\n",
    "plt.show()"
   ]
  },
  {
   "cell_type": "markdown",
   "metadata": {},
   "source": [
    "The visualization suggests that there is a relation between patient rights and outcomes (the lower the score, the better). The diameter of the circles displays expenditure in 2012, and there is a slight impression that the higher expenditure countries have better patient rights and outcomes.\n",
    "\n",
    "The visualization used Matplotlib and is just an example how quickly visual insight can be provided after data have been scraped. All using a single Python script.\n",
    "\n",
    "___\n",
    "*Any questions or comments?* : Ruthger Righart, <font color=\"blue\">rrighart@googlemail.com</font>\n",
    "___\n"
   ]
  },
  {
   "cell_type": "markdown",
   "metadata": {},
   "source": [
    "## **References**"
   ]
  },
  {
   "cell_type": "markdown",
   "metadata": {
    "collapsed": true
   },
   "source": [
    "[1]. Data is the new oil. https://www.changethislimited.co.uk/2017/01/data-is-the-new-oil/\n",
    "\n",
    "[2]. Data on internet. https://www.livescience.com/54094-how-big-is-the-internet.html\n",
    "\n",
    "[3]. Beautiful Soup. https://www.crummy.com/software/BeautifulSoup/bs4/\n",
    "\n",
    "[4]. Healthcare Europe. https://en.wikipedia.org/wiki/Healthcare_in_Europe\n",
    "\n",
    "[5]. Visualizing European healthcare using Tableau. https://rrighart.github.io/HE-Tableau/\n",
    "\n",
    "[6]. Scraping tables. https://stackoverflow.com/questions/17196018/extracting-table-contents-from-html-with-python-and-beautifulsoup\n",
    "\n",
    "[7]. Health expenditure. https://en.wikipedia.org/wiki/List_of_countries_by_total_health_expenditure_per_capita\n",
    "\n",
    "[8]. Hidden characters. https://stackoverflow.com/questions/31341351/how-can-i-identify-invisible-characters-in-python-strings\n",
    "\n",
    "[9]. Adjust text package. https://github.com/Phlya/adjustText/blob/master/examples/Examples.ipynb\n",
    "\n",
    "___\n"
   ]
  },
  {
   "cell_type": "markdown",
   "metadata": {
    "collapsed": true
   },
   "source": [
    "(c) 2017 . https://rrighart.github.io"
   ]
  }
 ],
 "metadata": {
  "kernelspec": {
   "display_name": "Python 2",
   "language": "python",
   "name": "python2"
  },
  "language_info": {
   "codemirror_mode": {
    "name": "ipython",
    "version": 2
   },
   "file_extension": ".py",
   "mimetype": "text/x-python",
   "name": "python",
   "nbconvert_exporter": "python",
   "pygments_lexer": "ipython2",
   "version": "2.7.12"
  }
 },
 "nbformat": 4,
 "nbformat_minor": 2
}
