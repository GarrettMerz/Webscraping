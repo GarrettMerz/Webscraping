{
 "cells": [
  {
   "cell_type": "markdown",
   "metadata": {},
   "source": [
    "# Webscraping and beyond"
   ]
  },
  {
   "cell_type": "markdown",
   "metadata": {},
   "source": [
    "**Ruthger Righart**\n",
    "\n",
    "**Email**: rrighart@googlemail.com\n",
    "\n",
    "**Website**: www.rrighart.com\n"
   ]
  },
  {
   "cell_type": "markdown",
   "metadata": {},
   "source": [
    "Data is the new oil of the 21st century<font color=\"gray\"><sup>1</sup></font>. Many data come from the web<font color=\"gray\"><sup>2</sup></font>. Acquiring these webdata and structuring them is an essential skill that is called *webscraping*.\n",
    "\n",
    "In this blog, I will briefly discuss how to webscrape data. However, it does not stop there. Analyses beyond webscraping are often needed. Some additional steps are shown, such as capturing hidden characters, merging different data, summary stats and visualization. Luckily, Python can be used for the whole analysis pipeline.\n",
    "\n",
    "Healthdata are used for the current purpose, but it should be mentioned that many data can be webscraped in a similar way, sometimes with a few adaptations in the code.\n",
    "\n",
    "**Important note**: Almost nothing is more dynamic than webdata. Please report me if code is not working, this may be due to changes in the downloaded webdata tables.\n",
    "\n",
    "The current blog has been updated at **21-9-2018**. A previous version was published June 2017 at https://rrighart.github.io/ . The code is based on **Python 2.7**. Some minor changes may be needed for Python 3.4 and later versions."
   ]
  },
  {
   "cell_type": "code",
   "execution_count": 1,
   "metadata": {
    "collapsed": true
   },
   "outputs": [],
   "source": [
    "import warnings\n",
    "warnings.filterwarnings(\"ignore\")"
   ]
  },
  {
   "cell_type": "markdown",
   "metadata": {},
   "source": [
    "## **Healthcare rankings for different European countries** "
   ]
  },
  {
   "cell_type": "markdown",
   "metadata": {
    "collapsed": true
   },
   "source": [
    "**Beautiful Soup** is a Python package that is used for webscraping<font color=\"gray\"><sup>3</sup></font>. \n",
    "In this blog we are going to scrape tables from webpages."
   ]
  },
  {
   "cell_type": "code",
   "execution_count": 2,
   "metadata": {
    "collapsed": true
   },
   "outputs": [],
   "source": [
    "import numpy as np\n",
    "import pandas as pd\n",
    "from bs4 import BeautifulSoup\n",
    "import requests\n",
    "import csv\n",
    "import re\n",
    "import urllib2\n",
    "from datetime import datetime\n",
    "import os\n",
    "import sys\n",
    "import matplotlib.pyplot as plt\n",
    "import matplotlib.image as mpimg"
   ]
  },
  {
   "cell_type": "markdown",
   "metadata": {},
   "source": [
    "First, you need to determine the directory where you save your data.  "
   ]
  },
  {
   "cell_type": "raw",
   "metadata": {},
   "source": [
    "os.chdir('/your-directory/')"
   ]
  },
  {
   "cell_type": "raw",
   "metadata": {},
   "source": [
    "os.getcwd()"
   ]
  },
  {
   "cell_type": "markdown",
   "metadata": {},
   "source": [
    "We are going to scrape data from wikipedia<font color=\"gray\"><sup>4</sup></font>. The data indicate rankings on different health indices, such as patient rights and information, accessibility (waiting time for treatment), outcomes, range and reach of services provided, prevention, and pharmaceuticals. The data are from the Euro Health Consumer index. In the following code, we read the data and use BeautifulSoup to convert the data in so-called **bs4.BeautifulSoup** data. Several data visualizations using Tableau can be found on my blog page<font color=\"gray\"><sup>5</sup></font>."
   ]
  },
  {
   "cell_type": "code",
   "execution_count": 3,
   "metadata": {},
   "outputs": [
    {
     "data": {
      "text/plain": [
       "bs4.BeautifulSoup"
      ]
     },
     "execution_count": 3,
     "metadata": {},
     "output_type": "execute_result"
    }
   ],
   "source": [
    "url = 'https://en.wikipedia.org/wiki/Healthcare_in_Europe' \n",
    "r = requests.get(url)\n",
    "HCE = BeautifulSoup(r.content)\n",
    "type(HCE)"
   ]
  },
  {
   "cell_type": "markdown",
   "metadata": {},
   "source": [
    "We could display the data using <font color=\"blue\">print(HCE.prettify())</font>. We will not do that here because it will produce a great amount of text (or soup)."
   ]
  },
  {
   "cell_type": "markdown",
   "metadata": {},
   "source": [
    "We first need to select the table that we'd like to scrape. As many webpages contain multiple tables, it would be good to read from the HTML the specific tablenames into a list, that we will call <font color=\"red\">lst</font><font color=\"gray\"><sup>6</sup></font>:"
   ]
  },
  {
   "cell_type": "code",
   "execution_count": 4,
   "metadata": {
    "collapsed": true
   },
   "outputs": [],
   "source": [
    "htmlpage = urllib2.urlopen(url)\n",
    "lst = []\n",
    "for line in htmlpage:\n",
    "    line = line.rstrip()\n",
    "    if re.search('table class', line) :\n",
    "        lst.append(line)"
   ]
  },
  {
   "cell_type": "markdown",
   "metadata": {},
   "source": [
    "This list <font color=\"red\">lst</font> has a length of 3:"
   ]
  },
  {
   "cell_type": "code",
   "execution_count": 5,
   "metadata": {},
   "outputs": [
    {
     "data": {
      "text/plain": [
       "3"
      ]
     },
     "execution_count": 5,
     "metadata": {},
     "output_type": "execute_result"
    }
   ],
   "source": [
    "len(lst)"
   ]
  },
  {
   "cell_type": "markdown",
   "metadata": {},
   "source": [
    "Now let us display <font color=\"red\">lst</font>:"
   ]
  },
  {
   "cell_type": "code",
   "execution_count": 6,
   "metadata": {},
   "outputs": [
    {
     "data": {
      "text/plain": [
       "['<table class=\"wikitable sortable\">',\n",
       " '<table class=\"wikitable sortable\">',\n",
       " '<div role=\"navigation\" class=\"navbox\" aria-labelledby=\"Healthcare_in_Europe\" style=\"padding:3px\"><table class=\"nowraplinks collapsible autocollapse navbox-inner\" style=\"border-spacing:0;background:transparent;color:inherit\"><tbody><tr><th scope=\"col\" class=\"navbox-title\" colspan=\"2\"><div class=\"plainlinks hlist navbar mini\"><ul><li class=\"nv-view\"><a href=\"/wiki/Template:Healthcare_in_Europe\" title=\"Template:Healthcare in Europe\"><abbr title=\"View this template\" style=\";;background:none transparent;border:none;-moz-box-shadow:none;-webkit-box-shadow:none;box-shadow:none; padding:0;\">v</abbr></a></li><li class=\"nv-talk\"><a href=\"/wiki/Template_talk:Healthcare_in_Europe\" title=\"Template talk:Healthcare in Europe\"><abbr title=\"Discuss this template\" style=\";;background:none transparent;border:none;-moz-box-shadow:none;-webkit-box-shadow:none;box-shadow:none; padding:0;\">t</abbr></a></li><li class=\"nv-edit\"><a class=\"external text\" href=\"//en.wikipedia.org/w/index.php?title=Template:Healthcare_in_Europe&amp;action=edit\"><abbr title=\"Edit this template\" style=\";;background:none transparent;border:none;-moz-box-shadow:none;-webkit-box-shadow:none;box-shadow:none; padding:0;\">e</abbr></a></li></ul></div><div id=\"Healthcare_in_Europe\" style=\"font-size:114%;margin:0 4em\"><a class=\"mw-selflink selflink\">Healthcare in Europe </a></div></th></tr><tr><th scope=\"row\" class=\"navbox-group\" style=\"width:1%\">Sovereign states</th><td class=\"navbox-list navbox-odd hlist\" style=\"text-align:left;border-left-width:2px;border-left-style:solid;width:100%;padding:0px\"><div style=\"padding:0em 0.25em\">']"
      ]
     },
     "execution_count": 6,
     "metadata": {},
     "output_type": "execute_result"
    }
   ],
   "source": [
    "lst"
   ]
  },
  {
   "cell_type": "markdown",
   "metadata": {},
   "source": [
    "We will scrape the first table, and therefore use index 0 in <font color=\"red\">lst</font> to capture the first table name. Now it is about time to read in the table using Beautiful Soup's <font color=\"blue\">find</font> function. A simple option is to type in the table name. You simply select the name in <font color=\"red\">lst</font>, which in this case is \"wikitable sortable\":"
   ]
  },
  {
   "cell_type": "code",
   "execution_count": 7,
   "metadata": {
    "collapsed": true
   },
   "outputs": [],
   "source": [
    "table=HCE.find('table', {'class', 'wikitable sortable'})"
   ]
  },
  {
   "cell_type": "markdown",
   "metadata": {},
   "source": [
    "Alternatively, there is a way to automate this step, by capturing the first data from the list, and then stripping off the unneeded characters."
   ]
  },
  {
   "cell_type": "code",
   "execution_count": 8,
   "metadata": {
    "collapsed": true
   },
   "outputs": [],
   "source": [
    "x=lst[0]\n",
    "extr=re.findall('\"([^\"]*)\"', x)\n",
    "table=HCE.find('table', {'class', str(extr).strip(\"'[]'\")})"
   ]
  },
  {
   "cell_type": "code",
   "execution_count": 9,
   "metadata": {},
   "outputs": [
    {
     "data": {
      "text/plain": [
       "bs4.element.Tag"
      ]
     },
     "execution_count": 9,
     "metadata": {},
     "output_type": "execute_result"
    }
   ],
   "source": [
    "type(table)"
   ]
  },
  {
   "cell_type": "markdown",
   "metadata": {},
   "source": [
    "Now it would be good to read in separately the header and row names, so we later can easily make a DataFrame."
   ]
  },
  {
   "cell_type": "code",
   "execution_count": 10,
   "metadata": {
    "collapsed": true
   },
   "outputs": [],
   "source": [
    "headers= [header.text for header in table.find_all('th')]"
   ]
  },
  {
   "cell_type": "code",
   "execution_count": 11,
   "metadata": {
    "scrolled": true
   },
   "outputs": [
    {
     "data": {
      "text/plain": [
       "[u'Country\\n',\n",
       " u'Ranking\\n',\n",
       " u'Total Score\\n',\n",
       " u'Patient rights & Information\\n',\n",
       " u'Accessibility (waiting times)\\n',\n",
       " u'Outcomes\\n',\n",
       " u'Range and reach of services provided\\n',\n",
       " u'Prevention\\n',\n",
       " u'Pharmaceuticals\\n']"
      ]
     },
     "execution_count": 11,
     "metadata": {},
     "output_type": "execute_result"
    }
   ],
   "source": [
    "headers"
   ]
  },
  {
   "cell_type": "code",
   "execution_count": 12,
   "metadata": {
    "collapsed": true
   },
   "outputs": [],
   "source": [
    "rows = []\n",
    "for row in table.find_all('tr'):\n",
    "    rows.append([val.text.encode('utf8') for val in row.find_all('td')])"
   ]
  },
  {
   "cell_type": "markdown",
   "metadata": {},
   "source": [
    "Now all elements, -- rows and headers --, are available to build the DataFrame, which we will call <font color=\"red\">df1</font>. "
   ]
  },
  {
   "cell_type": "code",
   "execution_count": 13,
   "metadata": {
    "collapsed": true
   },
   "outputs": [],
   "source": [
    "df1 = pd.DataFrame(rows, columns=headers)"
   ]
  },
  {
   "cell_type": "code",
   "execution_count": 14,
   "metadata": {},
   "outputs": [
    {
     "data": {
      "text/html": [
       "<div>\n",
       "<style>\n",
       "    .dataframe thead tr:only-child th {\n",
       "        text-align: right;\n",
       "    }\n",
       "\n",
       "    .dataframe thead th {\n",
       "        text-align: left;\n",
       "    }\n",
       "\n",
       "    .dataframe tbody tr th {\n",
       "        vertical-align: top;\n",
       "    }\n",
       "</style>\n",
       "<table border=\"1\" class=\"dataframe\">\n",
       "  <thead>\n",
       "    <tr style=\"text-align: right;\">\n",
       "      <th></th>\n",
       "      <th>Country</th>\n",
       "      <th>Ranking</th>\n",
       "      <th>Total Score</th>\n",
       "      <th>Patient rights &amp; Information</th>\n",
       "      <th>Accessibility (waiting times)</th>\n",
       "      <th>Outcomes</th>\n",
       "      <th>Range and reach of services provided</th>\n",
       "      <th>Prevention</th>\n",
       "      <th>Pharmaceuticals</th>\n",
       "    </tr>\n",
       "  </thead>\n",
       "  <tbody>\n",
       "    <tr>\n",
       "      <th>0</th>\n",
       "      <td>None</td>\n",
       "      <td>None</td>\n",
       "      <td>None</td>\n",
       "      <td>None</td>\n",
       "      <td>None</td>\n",
       "      <td>None</td>\n",
       "      <td>None</td>\n",
       "      <td>None</td>\n",
       "      <td>None</td>\n",
       "    </tr>\n",
       "    <tr>\n",
       "      <th>1</th>\n",
       "      <td>Netherlands\\n</td>\n",
       "      <td>1\\n</td>\n",
       "      <td>924\\n</td>\n",
       "      <td>125\\n</td>\n",
       "      <td>200\\n</td>\n",
       "      <td>278\\n</td>\n",
       "      <td>125\\n</td>\n",
       "      <td>107\\n</td>\n",
       "      <td>89\\n</td>\n",
       "    </tr>\n",
       "    <tr>\n",
       "      <th>2</th>\n",
       "      <td>Switzerland\\n</td>\n",
       "      <td>2\\n</td>\n",
       "      <td>898\\n</td>\n",
       "      <td>117\\n</td>\n",
       "      <td>225\\n</td>\n",
       "      <td>278\\n</td>\n",
       "      <td>94\\n</td>\n",
       "      <td>101\\n</td>\n",
       "      <td>83\\n</td>\n",
       "    </tr>\n",
       "    <tr>\n",
       "      <th>3</th>\n",
       "      <td>Denmark\\n</td>\n",
       "      <td>3\\n</td>\n",
       "      <td>864\\n</td>\n",
       "      <td>117\\n</td>\n",
       "      <td>118\\n</td>\n",
       "      <td>267\\n</td>\n",
       "      <td>120\\n</td>\n",
       "      <td>95\\n</td>\n",
       "      <td>119\\n</td>\n",
       "    </tr>\n",
       "    <tr>\n",
       "      <th>4</th>\n",
       "      <td>Norway\\n</td>\n",
       "      <td>4\\n</td>\n",
       "      <td>850\\n</td>\n",
       "      <td>125\\n</td>\n",
       "      <td>125\\n</td>\n",
       "      <td>289\\n</td>\n",
       "      <td>115\\n</td>\n",
       "      <td>119\\n</td>\n",
       "      <td>78\\n</td>\n",
       "    </tr>\n",
       "    <tr>\n",
       "      <th>5</th>\n",
       "      <td>Luxembourg\\n</td>\n",
       "      <td>5\\n</td>\n",
       "      <td>850\\n</td>\n",
       "      <td>104\\n</td>\n",
       "      <td>213\\n</td>\n",
       "      <td>244\\n</td>\n",
       "      <td>109\\n</td>\n",
       "      <td>107\\n</td>\n",
       "      <td>72\\n</td>\n",
       "    </tr>\n",
       "    <tr>\n",
       "      <th>6</th>\n",
       "      <td>Finland\\n</td>\n",
       "      <td>6\\n</td>\n",
       "      <td>856\\n</td>\n",
       "      <td>108\\n</td>\n",
       "      <td>150\\n</td>\n",
       "      <td>289\\n</td>\n",
       "      <td>120\\n</td>\n",
       "      <td>101\\n</td>\n",
       "      <td>78\\n</td>\n",
       "    </tr>\n",
       "  </tbody>\n",
       "</table>\n",
       "</div>"
      ],
      "text/plain": [
       "         Country\\n Ranking\\n Total Score\\n Patient rights & Information\\n  \\\n",
       "0             None      None          None                           None   \n",
       "1    Netherlands\\n       1\\n         924\\n                          125\\n   \n",
       "2    Switzerland\\n       2\\n         898\\n                          117\\n   \n",
       "3        Denmark\\n       3\\n         864\\n                          117\\n   \n",
       "4         Norway\\n       4\\n         850\\n                          125\\n   \n",
       "5     Luxembourg\\n       5\\n         850\\n                          104\\n   \n",
       "6        Finland\\n       6\\n         856\\n                          108\\n   \n",
       "\n",
       "  Accessibility (waiting times)\\n Outcomes\\n  \\\n",
       "0                            None       None   \n",
       "1                           200\\n      278\\n   \n",
       "2                           225\\n      278\\n   \n",
       "3                           118\\n      267\\n   \n",
       "4                           125\\n      289\\n   \n",
       "5                           213\\n      244\\n   \n",
       "6                           150\\n      289\\n   \n",
       "\n",
       "  Range and reach of services provided\\n Prevention\\n Pharmaceuticals\\n  \n",
       "0                                   None         None              None  \n",
       "1                                  125\\n        107\\n              89\\n  \n",
       "2                                   94\\n        101\\n              83\\n  \n",
       "3                                  120\\n         95\\n             119\\n  \n",
       "4                                  115\\n        119\\n              78\\n  \n",
       "5                                  109\\n        107\\n              72\\n  \n",
       "6                                  120\\n        101\\n              78\\n  "
      ]
     },
     "execution_count": 14,
     "metadata": {},
     "output_type": "execute_result"
    }
   ],
   "source": [
    "df1.head(7)"
   ]
  },
  {
   "cell_type": "markdown",
   "metadata": {},
   "source": [
    "This table still needs a good amount of preprocessing, on which we will return later."
   ]
  },
  {
   "cell_type": "markdown",
   "metadata": {},
   "source": [
    "## **Health Expenditure**"
   ]
  },
  {
   "cell_type": "markdown",
   "metadata": {},
   "source": [
    "Of course, other data sources can be scraped as well. So let us load data about health expenditure<font color=\"gray\"><sup>7</sup></font>. These are data per capita, which means that expenditure was corrected for the number of habitants in a country. Saving time, we will now put the script in one code block. This should lead to a DataFrame <font color=\"red\">df2</font>:"
   ]
  },
  {
   "cell_type": "code",
   "execution_count": 15,
   "metadata": {},
   "outputs": [
    {
     "name": "stdout",
     "output_type": "stream",
     "text": [
      "<table class=\"wikitable\">\n"
     ]
    }
   ],
   "source": [
    "url = 'https://en.wikipedia.org/wiki/List_of_countries_by_total_health_expenditure_per_capita' \n",
    "r = requests.get(url)\n",
    "HEE = BeautifulSoup(r.content)\n",
    "htmlpage = urllib2.urlopen(url)\n",
    "lst = []\n",
    "for line in htmlpage:\n",
    "    line = line.rstrip()\n",
    "    if re.search('table class', line) :\n",
    "        lst.append(line)\n",
    "x=lst[1]\n",
    "print x\n",
    "extr=re.findall('\"([^\"]*)\"', x)\n",
    "table=HEE.find('table', {'class', 'wikitable sortable'})\n",
    "headers= [header.text for header in table.find_all('th')]\n",
    "rows = []\n",
    "for row in table.find_all('tr'):\n",
    "    rows.append([val.text.encode('utf8') for val in row.find_all('td')])\n",
    "headers = [i.replace(\"\\n\", \"\") for i in headers]\n",
    "df2 = pd.DataFrame(rows, columns=headers)"
   ]
  },
  {
   "cell_type": "code",
   "execution_count": 16,
   "metadata": {},
   "outputs": [
    {
     "data": {
      "text/html": [
       "<div>\n",
       "<style>\n",
       "    .dataframe thead tr:only-child th {\n",
       "        text-align: right;\n",
       "    }\n",
       "\n",
       "    .dataframe thead th {\n",
       "        text-align: left;\n",
       "    }\n",
       "\n",
       "    .dataframe tbody tr th {\n",
       "        vertical-align: top;\n",
       "    }\n",
       "</style>\n",
       "<table border=\"1\" class=\"dataframe\">\n",
       "  <thead>\n",
       "    <tr style=\"text-align: right;\">\n",
       "      <th></th>\n",
       "      <th>Country</th>\n",
       "      <th>2013</th>\n",
       "      <th>2014</th>\n",
       "      <th>2015</th>\n",
       "      <th>2016</th>\n",
       "    </tr>\n",
       "  </thead>\n",
       "  <tbody>\n",
       "    <tr>\n",
       "      <th>0</th>\n",
       "      <td>None</td>\n",
       "      <td>None</td>\n",
       "      <td>None</td>\n",
       "      <td>None</td>\n",
       "      <td>None</td>\n",
       "    </tr>\n",
       "    <tr>\n",
       "      <th>1</th>\n",
       "      <td>Australia</td>\n",
       "      <td>4,186</td>\n",
       "      <td>4,289</td>\n",
       "      <td>4,493</td>\n",
       "      <td>4,708\\n</td>\n",
       "    </tr>\n",
       "    <tr>\n",
       "      <th>2</th>\n",
       "      <td>Austria</td>\n",
       "      <td>4,861</td>\n",
       "      <td>5,001</td>\n",
       "      <td>5,100</td>\n",
       "      <td>5,227\\n</td>\n",
       "    </tr>\n",
       "    <tr>\n",
       "      <th>3</th>\n",
       "      <td>Belgium</td>\n",
       "      <td>4,505</td>\n",
       "      <td>4,656</td>\n",
       "      <td>4,778</td>\n",
       "      <td>4,840\\n</td>\n",
       "    </tr>\n",
       "    <tr>\n",
       "      <th>4</th>\n",
       "      <td>Canada</td>\n",
       "      <td>4,461</td>\n",
       "      <td>4,502</td>\n",
       "      <td>4,613</td>\n",
       "      <td>4,753\\n</td>\n",
       "    </tr>\n",
       "  </tbody>\n",
       "</table>\n",
       "</div>"
      ],
      "text/plain": [
       "     Country   2013   2014   2015     2016\n",
       "0       None   None   None   None     None\n",
       "1  Australia  4,186  4,289  4,493  4,708\\n\n",
       "2    Austria  4,861  5,001  5,100  5,227\\n\n",
       "3    Belgium  4,505  4,656  4,778  4,840\\n\n",
       "4     Canada  4,461  4,502  4,613  4,753\\n"
      ]
     },
     "execution_count": 16,
     "metadata": {},
     "output_type": "execute_result"
    }
   ],
   "source": [
    "df2.head()"
   ]
  },
  {
   "cell_type": "markdown",
   "metadata": {},
   "source": [
    "\n",
    "## **Additional preprocessing steps**"
   ]
  },
  {
   "cell_type": "markdown",
   "metadata": {},
   "source": [
    "If we look at the dataframes, we see that there are still some issues that prohibit numeric computations. There are undesired characters ('\\n'), undesired decimal format (comma should be removed), there are cells with non-numeric characters ('x') that should be NAN, and several columns should be numeric instead of objects. To resolve this, we will write a preprocessing function called **preproc**, which accepts as input any DataFrame (in our case df1 and df2). Please note that each webtable may need its unique collection of preprocessing steps.  "
   ]
  },
  {
   "cell_type": "code",
   "execution_count": 17,
   "metadata": {
    "collapsed": true
   },
   "outputs": [],
   "source": [
    "def preproc(dat):\n",
    "    dat.dropna(axis=0, how='all', inplace=True)\n",
    "    dat.columns = dat.columns.str.replace(\"\\n\", \"\")    \n",
    "    dat.replace([\"\\n\"], [\"\"], regex=True, inplace=True)\n",
    "    dat.replace([\",\"], [\"\"], regex=True, inplace=True)\n",
    "    dat.replace(r\"\\b[a-zA-Z]\\b\", np.nan, regex=True, inplace=True)\n",
    "    dat = dat.apply(pd.to_numeric, errors='ignore')    \n",
    "    return(dat)"
   ]
  },
  {
   "cell_type": "code",
   "execution_count": 18,
   "metadata": {
    "collapsed": true
   },
   "outputs": [],
   "source": [
    "df1 = preproc(df1)\n",
    "df2 = preproc(df2)"
   ]
  },
  {
   "cell_type": "markdown",
   "metadata": {},
   "source": [
    "Apparently, after this preprocessing there are some NANs:"
   ]
  },
  {
   "cell_type": "code",
   "execution_count": 19,
   "metadata": {},
   "outputs": [
    {
     "name": "stdout",
     "output_type": "stream",
     "text": [
      "8\n",
      "0\n"
     ]
    }
   ],
   "source": [
    "print(df1.isnull().sum().sum())\n",
    "print(df2.isnull().sum().sum())"
   ]
  },
  {
   "cell_type": "markdown",
   "metadata": {},
   "source": [
    "Now we display where the NANs occur. In fact, when we check the original table, we can see that Cyprus has values \"x\", which were in our preproc function changed to NANs ( https://en.wikipedia.org/wiki/Healthcare_in_Europe )"
   ]
  },
  {
   "cell_type": "code",
   "execution_count": 20,
   "metadata": {},
   "outputs": [
    {
     "data": {
      "text/html": [
       "<div>\n",
       "<style>\n",
       "    .dataframe thead tr:only-child th {\n",
       "        text-align: right;\n",
       "    }\n",
       "\n",
       "    .dataframe thead th {\n",
       "        text-align: left;\n",
       "    }\n",
       "\n",
       "    .dataframe tbody tr th {\n",
       "        vertical-align: top;\n",
       "    }\n",
       "</style>\n",
       "<table border=\"1\" class=\"dataframe\">\n",
       "  <thead>\n",
       "    <tr style=\"text-align: right;\">\n",
       "      <th></th>\n",
       "      <th>Country</th>\n",
       "      <th>Ranking</th>\n",
       "      <th>Total Score</th>\n",
       "      <th>Patient rights &amp; Information</th>\n",
       "      <th>Accessibility (waiting times)</th>\n",
       "      <th>Outcomes</th>\n",
       "      <th>Range and reach of services provided</th>\n",
       "      <th>Prevention</th>\n",
       "      <th>Pharmaceuticals</th>\n",
       "    </tr>\n",
       "  </thead>\n",
       "  <tbody>\n",
       "    <tr>\n",
       "      <th>35</th>\n",
       "      <td>Cyprus</td>\n",
       "      <td>NaN</td>\n",
       "      <td>NaN</td>\n",
       "      <td>NaN</td>\n",
       "      <td>NaN</td>\n",
       "      <td>NaN</td>\n",
       "      <td>NaN</td>\n",
       "      <td>NaN</td>\n",
       "      <td>NaN</td>\n",
       "    </tr>\n",
       "  </tbody>\n",
       "</table>\n",
       "</div>"
      ],
      "text/plain": [
       "    Country  Ranking  Total Score  Patient rights & Information  \\\n",
       "35   Cyprus      NaN          NaN                           NaN   \n",
       "\n",
       "    Accessibility (waiting times)  Outcomes  \\\n",
       "35                            NaN       NaN   \n",
       "\n",
       "    Range and reach of services provided  Prevention  Pharmaceuticals  \n",
       "35                                   NaN         NaN              NaN  "
      ]
     },
     "execution_count": 20,
     "metadata": {},
     "output_type": "execute_result"
    }
   ],
   "source": [
    "df1[df1.isnull().any(axis=1)]"
   ]
  },
  {
   "cell_type": "markdown",
   "metadata": {},
   "source": [
    "Now we remove the NANs:"
   ]
  },
  {
   "cell_type": "code",
   "execution_count": 21,
   "metadata": {},
   "outputs": [],
   "source": [
    "df1.dropna(axis=0, how='any', inplace=True)"
   ]
  },
  {
   "cell_type": "markdown",
   "metadata": {},
   "source": [
    "At this point we inspect the data types:"
   ]
  },
  {
   "cell_type": "code",
   "execution_count": 22,
   "metadata": {},
   "outputs": [
    {
     "data": {
      "text/plain": [
       "Country                                  object\n",
       "Ranking                                 float64\n",
       "Total Score                             float64\n",
       "Patient rights & Information            float64\n",
       "Accessibility (waiting times)           float64\n",
       "Outcomes                                float64\n",
       "Range and reach of services provided    float64\n",
       "Prevention                              float64\n",
       "Pharmaceuticals                         float64\n",
       "dtype: object"
      ]
     },
     "execution_count": 22,
     "metadata": {},
     "output_type": "execute_result"
    }
   ],
   "source": [
    "df1.dtypes"
   ]
  },
  {
   "cell_type": "code",
   "execution_count": 23,
   "metadata": {},
   "outputs": [
    {
     "data": {
      "text/plain": [
       "Country    object\n",
       "2013        int64\n",
       "2014        int64\n",
       "2015        int64\n",
       "2016        int64\n",
       "dtype: object"
      ]
     },
     "execution_count": 23,
     "metadata": {},
     "output_type": "execute_result"
    }
   ],
   "source": [
    "df2.dtypes"
   ]
  },
  {
   "cell_type": "markdown",
   "metadata": {},
   "source": [
    "The columnnames are a bit long, and so it would be good to use shorter names."
   ]
  },
  {
   "cell_type": "code",
   "execution_count": 24,
   "metadata": {
    "collapsed": true
   },
   "outputs": [],
   "source": [
    "df1.columns = ['Country', 'Ranking', 'totalscore', 'Patientrights', 'Accessibility', 'Outcomes', 'Range', 'Prevention', 'Pharmaceuticals']\n",
    "df2.columns = ['Country', 'y2013', 'y2014', 'y2015', 'y2016']"
   ]
  },
  {
   "cell_type": "markdown",
   "metadata": {
    "collapsed": true
   },
   "source": [
    "\n",
    "## **Merging different data**"
   ]
  },
  {
   "cell_type": "markdown",
   "metadata": {
    "collapsed": true
   },
   "source": [
    "It should be clear from this example that webscraping can be important to quickly grasp data.\n",
    "Webscraping may be particularly useful when you need to automate data processing:\n",
    "\n",
    "* Webdata change regularly and need to be stored repeatedly.\n",
    "\n",
    "* A large number of data sources, for example tables, need to be loaded and merged.\n",
    "\n",
    "Let us elaborate the last point a bit more. If the two tables that we just scraped need to be merged, this can be done in Python. For example, if we want to merge on the column \"Country\", we would use the following code (we use the <font color=\"blue\">.head()</font> function to limit the output)."
   ]
  },
  {
   "cell_type": "code",
   "execution_count": 25,
   "metadata": {
    "scrolled": true
   },
   "outputs": [
    {
     "data": {
      "text/html": [
       "<div>\n",
       "<style>\n",
       "    .dataframe thead tr:only-child th {\n",
       "        text-align: right;\n",
       "    }\n",
       "\n",
       "    .dataframe thead th {\n",
       "        text-align: left;\n",
       "    }\n",
       "\n",
       "    .dataframe tbody tr th {\n",
       "        vertical-align: top;\n",
       "    }\n",
       "</style>\n",
       "<table border=\"1\" class=\"dataframe\">\n",
       "  <thead>\n",
       "    <tr style=\"text-align: right;\">\n",
       "      <th></th>\n",
       "      <th>Country</th>\n",
       "      <th>Ranking</th>\n",
       "      <th>totalscore</th>\n",
       "      <th>Patientrights</th>\n",
       "      <th>Accessibility</th>\n",
       "      <th>Outcomes</th>\n",
       "      <th>Range</th>\n",
       "      <th>Prevention</th>\n",
       "      <th>Pharmaceuticals</th>\n",
       "      <th>y2013</th>\n",
       "      <th>y2014</th>\n",
       "      <th>y2015</th>\n",
       "      <th>y2016</th>\n",
       "    </tr>\n",
       "  </thead>\n",
       "  <tbody>\n",
       "    <tr>\n",
       "      <th>0</th>\n",
       "      <td>Netherlands</td>\n",
       "      <td>1.0</td>\n",
       "      <td>924.0</td>\n",
       "      <td>125.0</td>\n",
       "      <td>200.0</td>\n",
       "      <td>278.0</td>\n",
       "      <td>125.0</td>\n",
       "      <td>107.0</td>\n",
       "      <td>89.0</td>\n",
       "      <td>NaN</td>\n",
       "      <td>NaN</td>\n",
       "      <td>NaN</td>\n",
       "      <td>NaN</td>\n",
       "    </tr>\n",
       "    <tr>\n",
       "      <th>1</th>\n",
       "      <td>Switzerland</td>\n",
       "      <td>2.0</td>\n",
       "      <td>898.0</td>\n",
       "      <td>117.0</td>\n",
       "      <td>225.0</td>\n",
       "      <td>278.0</td>\n",
       "      <td>94.0</td>\n",
       "      <td>101.0</td>\n",
       "      <td>83.0</td>\n",
       "      <td>NaN</td>\n",
       "      <td>NaN</td>\n",
       "      <td>NaN</td>\n",
       "      <td>NaN</td>\n",
       "    </tr>\n",
       "    <tr>\n",
       "      <th>2</th>\n",
       "      <td>Denmark</td>\n",
       "      <td>3.0</td>\n",
       "      <td>864.0</td>\n",
       "      <td>117.0</td>\n",
       "      <td>118.0</td>\n",
       "      <td>267.0</td>\n",
       "      <td>120.0</td>\n",
       "      <td>95.0</td>\n",
       "      <td>119.0</td>\n",
       "      <td>NaN</td>\n",
       "      <td>NaN</td>\n",
       "      <td>NaN</td>\n",
       "      <td>NaN</td>\n",
       "    </tr>\n",
       "    <tr>\n",
       "      <th>3</th>\n",
       "      <td>Norway</td>\n",
       "      <td>4.0</td>\n",
       "      <td>850.0</td>\n",
       "      <td>125.0</td>\n",
       "      <td>125.0</td>\n",
       "      <td>289.0</td>\n",
       "      <td>115.0</td>\n",
       "      <td>119.0</td>\n",
       "      <td>78.0</td>\n",
       "      <td>NaN</td>\n",
       "      <td>NaN</td>\n",
       "      <td>NaN</td>\n",
       "      <td>NaN</td>\n",
       "    </tr>\n",
       "    <tr>\n",
       "      <th>4</th>\n",
       "      <td>Luxembourg</td>\n",
       "      <td>5.0</td>\n",
       "      <td>850.0</td>\n",
       "      <td>104.0</td>\n",
       "      <td>213.0</td>\n",
       "      <td>244.0</td>\n",
       "      <td>109.0</td>\n",
       "      <td>107.0</td>\n",
       "      <td>72.0</td>\n",
       "      <td>NaN</td>\n",
       "      <td>NaN</td>\n",
       "      <td>NaN</td>\n",
       "      <td>NaN</td>\n",
       "    </tr>\n",
       "  </tbody>\n",
       "</table>\n",
       "</div>"
      ],
      "text/plain": [
       "         Country  Ranking  totalscore  Patientrights  Accessibility  Outcomes  \\\n",
       "0    Netherlands      1.0       924.0          125.0          200.0     278.0   \n",
       "1    Switzerland      2.0       898.0          117.0          225.0     278.0   \n",
       "2        Denmark      3.0       864.0          117.0          118.0     267.0   \n",
       "3         Norway      4.0       850.0          125.0          125.0     289.0   \n",
       "4     Luxembourg      5.0       850.0          104.0          213.0     244.0   \n",
       "\n",
       "   Range  Prevention  Pharmaceuticals  y2013  y2014  y2015  y2016  \n",
       "0  125.0       107.0             89.0    NaN    NaN    NaN    NaN  \n",
       "1   94.0       101.0             83.0    NaN    NaN    NaN    NaN  \n",
       "2  120.0        95.0            119.0    NaN    NaN    NaN    NaN  \n",
       "3  115.0       119.0             78.0    NaN    NaN    NaN    NaN  \n",
       "4  109.0       107.0             72.0    NaN    NaN    NaN    NaN  "
      ]
     },
     "execution_count": 25,
     "metadata": {},
     "output_type": "execute_result"
    }
   ],
   "source": [
    "pd.merge(df1, df2, how='left', on='Country').head()"
   ]
  },
  {
   "cell_type": "markdown",
   "metadata": {},
   "source": [
    "The health expenditure data give unexpected NaNs (missing values). Something must be wrong here. "
   ]
  },
  {
   "cell_type": "markdown",
   "metadata": {},
   "source": [
    "So we need to inspect this in more detail. Normally using the <font color=\"blue\">set</font> function to check for overlap between the countries in the two DataFrames should give a set. But now it is empty. This may suggest that the tables cannot merge because the <font color=\"red\">Country</font> names are not identical."
   ]
  },
  {
   "cell_type": "code",
   "execution_count": 26,
   "metadata": {},
   "outputs": [
    {
     "data": {
      "text/plain": [
       "set()"
      ]
     },
     "execution_count": 26,
     "metadata": {},
     "output_type": "execute_result"
    }
   ],
   "source": [
    "set(df1['Country']) & set(df2['Country'])"
   ]
  },
  {
   "cell_type": "markdown",
   "metadata": {},
   "source": [
    "Let's inspect these tables more closely. Something must be wrong because there are several countries that are overlapping and there are no spelling errors. If we write the table to a csv file to check the raw text we may discover hidden symbols."
   ]
  },
  {
   "cell_type": "code",
   "execution_count": 27,
   "metadata": {
    "collapsed": true
   },
   "outputs": [],
   "source": [
    "df1.to_csv('df1example.csv', sep=\",\")\n",
    "df2.to_csv('df2example.csv', sep=\",\")"
   ]
  },
  {
   "cell_type": "markdown",
   "metadata": {},
   "source": [
    "If you now open the csv file in a spreadsheet software you would discover that there are some hidden characters in the <font color=\"red\">df1example.csv</font> file. "
   ]
  },
  {
   "cell_type": "markdown",
   "metadata": {},
   "source": [
    "Using the <font color=\"blue\">repr</font> function we can reveal the hidden characters<sup>8</sup>."
   ]
  },
  {
   "cell_type": "code",
   "execution_count": 28,
   "metadata": {},
   "outputs": [
    {
     "data": {
      "text/plain": [
       "'1        \\xc2\\xa0Netherlands\\n2       \\xc2\\xa0\\xc2\\xa0Switzerland\\n3            \\xc2\\xa0Denmark\\n4             \\xc2\\xa0Norway\\n5         \\xc2\\xa0Luxembourg\\n6            \\xc2\\xa0Finland\\n7            \\xc2\\xa0Germany\\n8            \\xc2\\xa0Belgium\\n9            \\xc2\\xa0Iceland\\n10            \\xc2\\xa0France\\n11           \\xc2\\xa0Austria\\n12            \\xc2\\xa0Sweden\\n13          \\xc2\\xa0Slovakia\\n14          \\xc2\\xa0Portugal\\n15    \\xc2\\xa0United Kingdom\\n16          \\xc2\\xa0Slovenia\\n17           \\xc2\\xa0Czechia\\n18             \\xc2\\xa0Spain\\n19           \\xc2\\xa0Estonia\\n20            \\xc2\\xa0Serbia\\n21             \\xc2\\xa0Italy\\n22         \\xc2\\xa0Macedonia\\n23             \\xc2\\xa0Malta\\n24           \\xc2\\xa0Ireland\\n25        \\xc2\\xa0Montenegro\\n26           \\xc2\\xa0Croatia\\n27           \\xc2\\xa0Albania\\n28            \\xc2\\xa0Latvia\\n29            \\xc2\\xa0Poland\\n30           \\xc2\\xa0Hungary\\n31         \\xc2\\xa0Lithuania\\n32            \\xc2\\xa0Greece\\n33          \\xc2\\xa0Bulgaria\\n34           \\xc2\\xa0Romania\\nName: Country, dtype: object'"
      ]
     },
     "execution_count": 28,
     "metadata": {},
     "output_type": "execute_result"
    }
   ],
   "source": [
    "repr(df1['Country'])"
   ]
  },
  {
   "cell_type": "code",
   "execution_count": 29,
   "metadata": {},
   "outputs": [
    {
     "data": {
      "text/plain": [
       "'1           Australia\\n2             Austria\\n3             Belgium\\n4              Canada\\n5               Chile\\n6      Czech Republic\\n7             Denmark\\n8             Estonia\\n9             Finland\\n10             France\\n11            Germany\\n12             Greece\\n13            Hungary\\n14            Iceland\\n15            Ireland\\n16             Israel\\n17              Italy\\n18              Japan\\n19              Korea\\n20             Latvia\\n21         Luxembourg\\n22             Mexico\\n23        Netherlands\\n24        New Zealand\\n25             Norway\\n26             Poland\\n27           Portugal\\n28    Slovak Republic\\n29           Slovenia\\n30              Spain\\n31             Sweden\\n32        Switzerland\\n33             Turkey\\n34     United Kingdom\\n35      United States\\nName: Country, dtype: object'"
      ]
     },
     "execution_count": 29,
     "metadata": {},
     "output_type": "execute_result"
    }
   ],
   "source": [
    "repr(df2['Country'])"
   ]
  },
  {
   "cell_type": "markdown",
   "metadata": {},
   "source": [
    "Luckily, all unwanted hidden characters are identical across the countries. That is, the characters are \"\\xc2\\xa0\" and \"\\n\". Using the <font color=\"blue\">replace</font> function we could remove this part."
   ]
  },
  {
   "cell_type": "code",
   "execution_count": 30,
   "metadata": {},
   "outputs": [
    {
     "data": {
      "text/html": [
       "<div>\n",
       "<style>\n",
       "    .dataframe thead tr:only-child th {\n",
       "        text-align: right;\n",
       "    }\n",
       "\n",
       "    .dataframe thead th {\n",
       "        text-align: left;\n",
       "    }\n",
       "\n",
       "    .dataframe tbody tr th {\n",
       "        vertical-align: top;\n",
       "    }\n",
       "</style>\n",
       "<table border=\"1\" class=\"dataframe\">\n",
       "  <thead>\n",
       "    <tr style=\"text-align: right;\">\n",
       "      <th></th>\n",
       "      <th>Country</th>\n",
       "      <th>Ranking</th>\n",
       "      <th>totalscore</th>\n",
       "      <th>Patientrights</th>\n",
       "      <th>Accessibility</th>\n",
       "      <th>Outcomes</th>\n",
       "      <th>Range</th>\n",
       "      <th>Prevention</th>\n",
       "      <th>Pharmaceuticals</th>\n",
       "    </tr>\n",
       "  </thead>\n",
       "  <tbody>\n",
       "    <tr>\n",
       "      <th>1</th>\n",
       "      <td>Netherlands</td>\n",
       "      <td>1.0</td>\n",
       "      <td>924.0</td>\n",
       "      <td>125.0</td>\n",
       "      <td>200.0</td>\n",
       "      <td>278.0</td>\n",
       "      <td>125.0</td>\n",
       "      <td>107.0</td>\n",
       "      <td>89.0</td>\n",
       "    </tr>\n",
       "    <tr>\n",
       "      <th>2</th>\n",
       "      <td>Switzerland</td>\n",
       "      <td>2.0</td>\n",
       "      <td>898.0</td>\n",
       "      <td>117.0</td>\n",
       "      <td>225.0</td>\n",
       "      <td>278.0</td>\n",
       "      <td>94.0</td>\n",
       "      <td>101.0</td>\n",
       "      <td>83.0</td>\n",
       "    </tr>\n",
       "    <tr>\n",
       "      <th>3</th>\n",
       "      <td>Denmark</td>\n",
       "      <td>3.0</td>\n",
       "      <td>864.0</td>\n",
       "      <td>117.0</td>\n",
       "      <td>118.0</td>\n",
       "      <td>267.0</td>\n",
       "      <td>120.0</td>\n",
       "      <td>95.0</td>\n",
       "      <td>119.0</td>\n",
       "    </tr>\n",
       "    <tr>\n",
       "      <th>4</th>\n",
       "      <td>Norway</td>\n",
       "      <td>4.0</td>\n",
       "      <td>850.0</td>\n",
       "      <td>125.0</td>\n",
       "      <td>125.0</td>\n",
       "      <td>289.0</td>\n",
       "      <td>115.0</td>\n",
       "      <td>119.0</td>\n",
       "      <td>78.0</td>\n",
       "    </tr>\n",
       "    <tr>\n",
       "      <th>5</th>\n",
       "      <td>Luxembourg</td>\n",
       "      <td>5.0</td>\n",
       "      <td>850.0</td>\n",
       "      <td>104.0</td>\n",
       "      <td>213.0</td>\n",
       "      <td>244.0</td>\n",
       "      <td>109.0</td>\n",
       "      <td>107.0</td>\n",
       "      <td>72.0</td>\n",
       "    </tr>\n",
       "  </tbody>\n",
       "</table>\n",
       "</div>"
      ],
      "text/plain": [
       "         Country  Ranking  totalscore  Patientrights  Accessibility  Outcomes  \\\n",
       "1    Netherlands      1.0       924.0          125.0          200.0     278.0   \n",
       "2    Switzerland      2.0       898.0          117.0          225.0     278.0   \n",
       "3        Denmark      3.0       864.0          117.0          118.0     267.0   \n",
       "4         Norway      4.0       850.0          125.0          125.0     289.0   \n",
       "5     Luxembourg      5.0       850.0          104.0          213.0     244.0   \n",
       "\n",
       "   Range  Prevention  Pharmaceuticals  \n",
       "1  125.0       107.0             89.0  \n",
       "2   94.0       101.0             83.0  \n",
       "3  120.0        95.0            119.0  \n",
       "4  115.0       119.0             78.0  \n",
       "5  109.0       107.0             72.0  "
      ]
     },
     "execution_count": 30,
     "metadata": {},
     "output_type": "execute_result"
    }
   ],
   "source": [
    "df1.head()"
   ]
  },
  {
   "cell_type": "code",
   "execution_count": 31,
   "metadata": {
    "collapsed": true
   },
   "outputs": [],
   "source": [
    "df1.replace([\"\\n\"],[\"\"], regex=True, inplace=True)\n",
    "df1.replace([\"\\xc2\\xa0\"], [\"\"], regex=True, inplace=True)"
   ]
  },
  {
   "cell_type": "code",
   "execution_count": 32,
   "metadata": {},
   "outputs": [
    {
     "data": {
      "text/plain": [
       "'1        Netherlands\\n2        Switzerland\\n3            Denmark\\n4             Norway\\n5         Luxembourg\\n6            Finland\\n7            Germany\\n8            Belgium\\n9            Iceland\\n10            France\\n11           Austria\\n12            Sweden\\n13          Slovakia\\n14          Portugal\\n15    United Kingdom\\n16          Slovenia\\n17           Czechia\\n18             Spain\\n19           Estonia\\n20            Serbia\\n21             Italy\\n22         Macedonia\\n23             Malta\\n24           Ireland\\n25        Montenegro\\n26           Croatia\\n27           Albania\\n28            Latvia\\n29            Poland\\n30           Hungary\\n31         Lithuania\\n32            Greece\\n33          Bulgaria\\n34           Romania\\nName: Country, dtype: object'"
      ]
     },
     "execution_count": 32,
     "metadata": {},
     "output_type": "execute_result"
    }
   ],
   "source": [
    "repr(df1['Country'])"
   ]
  },
  {
   "cell_type": "code",
   "execution_count": 33,
   "metadata": {},
   "outputs": [
    {
     "data": {
      "text/html": [
       "<div>\n",
       "<style>\n",
       "    .dataframe thead tr:only-child th {\n",
       "        text-align: right;\n",
       "    }\n",
       "\n",
       "    .dataframe thead th {\n",
       "        text-align: left;\n",
       "    }\n",
       "\n",
       "    .dataframe tbody tr th {\n",
       "        vertical-align: top;\n",
       "    }\n",
       "</style>\n",
       "<table border=\"1\" class=\"dataframe\">\n",
       "  <thead>\n",
       "    <tr style=\"text-align: right;\">\n",
       "      <th></th>\n",
       "      <th>Country</th>\n",
       "      <th>Ranking</th>\n",
       "      <th>totalscore</th>\n",
       "      <th>Patientrights</th>\n",
       "      <th>Accessibility</th>\n",
       "      <th>Outcomes</th>\n",
       "      <th>Range</th>\n",
       "      <th>Prevention</th>\n",
       "      <th>Pharmaceuticals</th>\n",
       "    </tr>\n",
       "  </thead>\n",
       "  <tbody>\n",
       "    <tr>\n",
       "      <th>1</th>\n",
       "      <td>Netherlands</td>\n",
       "      <td>1.0</td>\n",
       "      <td>924.0</td>\n",
       "      <td>125.0</td>\n",
       "      <td>200.0</td>\n",
       "      <td>278.0</td>\n",
       "      <td>125.0</td>\n",
       "      <td>107.0</td>\n",
       "      <td>89.0</td>\n",
       "    </tr>\n",
       "    <tr>\n",
       "      <th>2</th>\n",
       "      <td>Switzerland</td>\n",
       "      <td>2.0</td>\n",
       "      <td>898.0</td>\n",
       "      <td>117.0</td>\n",
       "      <td>225.0</td>\n",
       "      <td>278.0</td>\n",
       "      <td>94.0</td>\n",
       "      <td>101.0</td>\n",
       "      <td>83.0</td>\n",
       "    </tr>\n",
       "    <tr>\n",
       "      <th>3</th>\n",
       "      <td>Denmark</td>\n",
       "      <td>3.0</td>\n",
       "      <td>864.0</td>\n",
       "      <td>117.0</td>\n",
       "      <td>118.0</td>\n",
       "      <td>267.0</td>\n",
       "      <td>120.0</td>\n",
       "      <td>95.0</td>\n",
       "      <td>119.0</td>\n",
       "    </tr>\n",
       "    <tr>\n",
       "      <th>4</th>\n",
       "      <td>Norway</td>\n",
       "      <td>4.0</td>\n",
       "      <td>850.0</td>\n",
       "      <td>125.0</td>\n",
       "      <td>125.0</td>\n",
       "      <td>289.0</td>\n",
       "      <td>115.0</td>\n",
       "      <td>119.0</td>\n",
       "      <td>78.0</td>\n",
       "    </tr>\n",
       "    <tr>\n",
       "      <th>5</th>\n",
       "      <td>Luxembourg</td>\n",
       "      <td>5.0</td>\n",
       "      <td>850.0</td>\n",
       "      <td>104.0</td>\n",
       "      <td>213.0</td>\n",
       "      <td>244.0</td>\n",
       "      <td>109.0</td>\n",
       "      <td>107.0</td>\n",
       "      <td>72.0</td>\n",
       "    </tr>\n",
       "  </tbody>\n",
       "</table>\n",
       "</div>"
      ],
      "text/plain": [
       "       Country  Ranking  totalscore  Patientrights  Accessibility  Outcomes  \\\n",
       "1  Netherlands      1.0       924.0          125.0          200.0     278.0   \n",
       "2  Switzerland      2.0       898.0          117.0          225.0     278.0   \n",
       "3      Denmark      3.0       864.0          117.0          118.0     267.0   \n",
       "4       Norway      4.0       850.0          125.0          125.0     289.0   \n",
       "5   Luxembourg      5.0       850.0          104.0          213.0     244.0   \n",
       "\n",
       "   Range  Prevention  Pharmaceuticals  \n",
       "1  125.0       107.0             89.0  \n",
       "2   94.0       101.0             83.0  \n",
       "3  120.0        95.0            119.0  \n",
       "4  115.0       119.0             78.0  \n",
       "5  109.0       107.0             72.0  "
      ]
     },
     "execution_count": 33,
     "metadata": {},
     "output_type": "execute_result"
    }
   ],
   "source": [
    "df1.head()"
   ]
  },
  {
   "cell_type": "markdown",
   "metadata": {},
   "source": [
    "Alright. To inspect if it worked, we could use <font color=\"blue\">repr</font> function again and should now see that the undesired characters are removed. Using the <font color=\"blue\">set</font> function again we can see now that there are quite some countries that overlap:"
   ]
  },
  {
   "cell_type": "code",
   "execution_count": 34,
   "metadata": {},
   "outputs": [
    {
     "data": {
      "text/plain": [
       "{'Austria',\n",
       " 'Belgium',\n",
       " 'Denmark',\n",
       " 'Estonia',\n",
       " 'Finland',\n",
       " 'France',\n",
       " 'Germany',\n",
       " 'Greece',\n",
       " 'Hungary',\n",
       " 'Iceland',\n",
       " 'Ireland',\n",
       " 'Italy',\n",
       " 'Latvia',\n",
       " 'Luxembourg',\n",
       " 'Netherlands',\n",
       " 'Norway',\n",
       " 'Poland',\n",
       " 'Portugal',\n",
       " 'Slovenia',\n",
       " 'Spain',\n",
       " 'Sweden',\n",
       " 'Switzerland',\n",
       " 'United Kingdom'}"
      ]
     },
     "execution_count": 34,
     "metadata": {},
     "output_type": "execute_result"
    }
   ],
   "source": [
    "set(df1['Country']) & set(df2['Country'])"
   ]
  },
  {
   "cell_type": "markdown",
   "metadata": {},
   "source": [
    "Now it is about time to merge the two tables. A few countries have NaNs but in these cases for the expenditure data there were no values. We make a new DataFrame <font color=\"red\">df3</font> from the merged data. After that we drop any rows where there are NaNs."
   ]
  },
  {
   "cell_type": "code",
   "execution_count": 35,
   "metadata": {
    "collapsed": true
   },
   "outputs": [],
   "source": [
    "df3 = pd.merge(df1,df2, how='left', on='Country')\n",
    "df3.dropna(how='any', inplace=True)"
   ]
  },
  {
   "cell_type": "code",
   "execution_count": 36,
   "metadata": {},
   "outputs": [
    {
     "data": {
      "text/plain": [
       "(23, 13)"
      ]
     },
     "execution_count": 36,
     "metadata": {},
     "output_type": "execute_result"
    }
   ],
   "source": [
    "df3.shape"
   ]
  },
  {
   "cell_type": "markdown",
   "metadata": {
    "collapsed": true
   },
   "source": [
    "\n",
    "## **Data visualization**"
   ]
  },
  {
   "cell_type": "markdown",
   "metadata": {
    "collapsed": true
   },
   "source": [
    "We managed to bring the data together. The data are ready for analyses and visualization. \n",
    "We could visually inspect the relation between different variables using a scatterplot. The package **adjustText** takes care that the country labels do not overlap<font color=\"gray\"><sup>9</sup></font>."
   ]
  },
  {
   "cell_type": "code",
   "execution_count": 37,
   "metadata": {
    "collapsed": true
   },
   "outputs": [],
   "source": [
    "reload(sys)\n",
    "sys.setdefaultencoding('utf8')"
   ]
  },
  {
   "cell_type": "markdown",
   "metadata": {
    "collapsed": true
   },
   "source": [
    "For the visualization, we will compute the average across years."
   ]
  },
  {
   "cell_type": "code",
   "execution_count": 38,
   "metadata": {
    "collapsed": true
   },
   "outputs": [],
   "source": [
    "df3['Avg'] = df3.loc[:, ['y2013', 'y2014', 'y2015', 'y2016'] ].mean(axis=1)"
   ]
  },
  {
   "cell_type": "markdown",
   "metadata": {},
   "source": [
    "We tune the axes and prepare the minimum and maximum values on the X- and Y-axis:"
   ]
  },
  {
   "cell_type": "code",
   "execution_count": 39,
   "metadata": {
    "collapsed": true
   },
   "outputs": [],
   "source": [
    "xmin=df3.Patientrights.min()-10\n",
    "xmax=df3.Patientrights.max()+10\n",
    "ymin=df3.Outcomes.min()-10\n",
    "ymax=df3.Outcomes.max()+10"
   ]
  },
  {
   "cell_type": "code",
   "execution_count": 40,
   "metadata": {},
   "outputs": [
    {
     "data": {
      "image/png": "[encoded data removed]",
      "text/plain": [
       "<matplotlib.figure.Figure at 0x7f4ea0307d50>"
      ]
     },
     "metadata": {},
     "output_type": "display_data"
    }
   ],
   "source": [
    "import matplotlib as mpl\n",
    "import matplotlib.pyplot as plt\n",
    "from adjustText import adjust_text\n",
    "\n",
    "def plot_df3(adjust=True):\n",
    "    mpl.rcParams['font.size'] = 12.0\n",
    "    plt.figure(figsize = (14, 14))\n",
    "    plt.scatter(df3.Patientrights, df3.Outcomes, facecolors='none', edgecolors='red', linewidth=1.2, s=1*df3.Avg)\n",
    "    texts = []\n",
    "    plt.title('Relation between different health parameters')\n",
    "    plt.xlabel('Patient rights')\n",
    "    plt.ylabel('Outcomes')\n",
    "    plt.xlim(xmin, xmax)\n",
    "    plt.ylim(ymin, ymax)\n",
    "\n",
    "    for x, y, s in zip(df3['Patientrights'], df3['Outcomes'], df3['Country']):\n",
    "        texts.append(plt.text(x, y, s, size=12))\n",
    "    if adjust:\n",
    "        plt.title(str(adjust_text(texts, arrowprops=dict(arrowstyle=\"-\", color='black', lw=0.5))\n",
    "))\n",
    "\n",
    "_ = plot_df3()\n",
    "plt.show()"
   ]
  },
  {
   "cell_type": "markdown",
   "metadata": {},
   "source": [
    "The visualization suggests a relation between patient rights and outcomes. The diameter of the circles displays expenditure. The higher expenditure countries have better patient rights and outcomes (mostly in the right top corner)."
   ]
  },
  {
   "cell_type": "markdown",
   "metadata": {},
   "source": [
    "## **Summary**\n",
    "\n",
    "The current blog showed how webtables can be scraped by using Python.\n",
    "A certain amount of preprocessing is necessary before these data can be visualized.\n",
    "Note that the world of webscraping is dynamic. The used websites and tables may be updated and therefore may require regular updates of Python code. \n",
    "\n",
    "Any questions or comments? \n",
    "\n",
    "Please feel free to contact me : \n",
    "\n",
    "Ruthger Righart\n",
    "\n",
    "E: rrighart@googlemail.com\n",
    "\n",
    "W: https://www.rrighart.com\n",
    "___\n"
   ]
  },
  {
   "cell_type": "markdown",
   "metadata": {},
   "source": [
    "## **References**"
   ]
  },
  {
   "cell_type": "markdown",
   "metadata": {
    "collapsed": true
   },
   "source": [
    "[1]. Data is the new oil. https://www.changethislimited.co.uk/2017/01/data-is-the-new-oil/\n",
    "\n",
    "[2]. Data on internet. https://www.livescience.com/54094-how-big-is-the-internet.html\n",
    "\n",
    "[3]. Beautiful Soup. https://www.crummy.com/software/BeautifulSoup/bs4/\n",
    "\n",
    "[4]. Healthcare Europe. https://en.wikipedia.org/wiki/Healthcare_in_Europe\n",
    "\n",
    "[5]. Visualizing European healthcare using Tableau. https://rrighart.github.io/HE-Tableau/\n",
    "\n",
    "[6]. Scraping tables. https://stackoverflow.com/questions/17196018/extracting-table-contents-from-html-with-python-and-beautifulsoup\n",
    "\n",
    "[7]. Health expenditure. https://en.wikipedia.org/wiki/List_of_countries_by_total_health_expenditure_per_capita\n",
    "\n",
    "[8]. Hidden characters. https://stackoverflow.com/questions/31341351/how-can-i-identify-invisible-characters-in-python-strings\n",
    "\n",
    "[9]. Adjust text package. https://github.com/Phlya/adjustText/blob/master/examples/Examples.ipynb\n",
    "\n",
    "___\n"
   ]
  },
  {
   "cell_type": "markdown",
   "metadata": {
    "collapsed": true
   },
   "source": [
    "(c) 2018 . https://www.rrighart.com | https://rrighart.github.io"
   ]
  }
 ],
 "metadata": {
  "kernelspec": {
   "display_name": "Python 2",
   "language": "python",
   "name": "python2"
  },
  "language_info": {
   "codemirror_mode": {
    "name": "ipython",
    "version": 2
   },
   "file_extension": ".py",
   "mimetype": "text/x-python",
   "name": "python",
   "nbconvert_exporter": "python",
   "pygments_lexer": "ipython2",
   "version": "2.7.12"
  }
 },
 "nbformat": 4,
 "nbformat_minor": 2
}
